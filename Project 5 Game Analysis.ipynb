{
 "cells": [
  {
   "cell_type": "markdown",
   "metadata": {},
   "source": [
    "# UNCOVERING THE KEY FACTORS INFLUENCING VIDEO GAME SUCCESS"
   ]
  },
  {
   "cell_type": "markdown",
   "metadata": {},
   "source": [
    "<a id=\"0\"></a> <br>\n",
    " # Table of Contents  \n",
    "1. [Stage 1: Data Overview](#1)     \n",
    "1. [Stage 2: Data Preprocessing](#2) \n",
    "    1. [Changing column names to lowercase](#3) \n",
    "    1. [The 'name'column](#4) \n",
    "    1. [The 'year_of_release' column](#5) \n",
    "    1. [The 'genre' column](#6) \n",
    "    1. [The 'critic_score' column](#7) \n",
    "    1. [The 'user_score' column](#8) \n",
    "    1. [The 'rating' column](#9) \n",
    "    1. [The 'total_sales' column](#10) \n",
    "1. [Stage 3: Exploratory Data Analysis](#11)       \n",
    "    1. [Games Released Throughout The Years](#12)     \n",
    "    1. [Different total sales from platform to platform.](#13)\n",
    "    1. [Distribution of total sales for platform which has the greatest total sales ](#31)\n",
    "    1. [Analyzing Platform Lifecycles: How Quickly New Platforms Emerge and Old Ones Fade](#32)\n",
    "    1. [Analyzing the trending of video game sales for 2017](#14) \n",
    "    1. [Comparing sales of games across potentially profitable platforms](#15)\n",
    "    1. [The effect of user and professional reviews on sales](#16)\n",
    "       1. [PS4 Platform](#17)\n",
    "       1. [XOne Platform](#18)\n",
    "       1. [3DS Platform](#19)\n",
    "       1. [Compare the sales of same games in different platform](#20)\n",
    "    1. [The most profitable genres of 'Games'](#21)\n",
    "    1. [User Profile for each region](#22)\n",
    "       1. [North American User](#23)\n",
    "       1. [Japanese User](#24)\n",
    "       1. [EU User](#25)\n",
    "    1. [Conclusion](#26)\n",
    "1. [Stage 4: Hypothesis Testing](#27) \n",
    "    1. [Hypothesis 1:'Average user ratings of the Xbox One and PC platforms are the same.](#28) \n",
    "    1. [Hypothesis 2:'Average user ratings for the Action and Sports genres are different.](#29) \n",
    "1. [Stage 5: General Conclusion](#30) "
   ]
  },
  {
   "cell_type": "markdown",
   "metadata": {},
   "source": [
    "# Introduction <a id='intro'></a>\n",
    "\n",
    "- At Ice, an online store specializing in global video game sales, access to user and expert reviews, genre classifications, platform data (e.g., Xbox or PlayStation), and historical sales records is available. The objective is to uncover patterns determining a game's success, facilitating the identification of potential blockbuster titles and the planning of targeted advertising campaigns.\n",
    "\n",
    "> Column description:\n",
    "> - Name (The title of each video game)\n",
    "> - Platform (The gaming platform or console on which the game is available)\n",
    "> - Year_of_Release (The year in which the game was launched)\n",
    "> - Genre (The category or genre to which the game belong)\n",
    "> - NA_sales (North American sales in USD million)\n",
    "> - EU_sales (sales in Europe in USD million)\n",
    "> - JP_sales (sales in Japan in USD million)\n",
    "> - Other_sales (sales in other countries in USD million)\n",
    "> - Critic_score (maximum of 100)\n",
    "> - User_score (maximum of 10)\n",
    "> - Rating (ESRB)\n",
    "\n",
    "## Goals:\n",
    "\n",
    "- To identify patterns that determine whether a game succeeds or not.\n",
    "- To identify spot potential big winners for global video game sales and plan advertising campaigns."
   ]
  },
  {
   "cell_type": "markdown",
   "metadata": {},
   "source": [
    "<a id=\"1\"></a> \n",
    "# Stage 1 : Data Overview "
   ]
  },
  {
   "cell_type": "code",
   "execution_count": 1,
   "metadata": {},
   "outputs": [
    {
     "name": "stdout",
     "output_type": "stream",
     "text": [
      "Collecting missingno\n",
      "  Downloading missingno-0.5.2-py3-none-any.whl (8.7 kB)\n",
      "Requirement already satisfied: numpy in /opt/conda/lib/python3.9/site-packages (from missingno) (1.21.1)\n",
      "Requirement already satisfied: matplotlib in /opt/conda/lib/python3.9/site-packages (from missingno) (3.3.4)\n",
      "Requirement already satisfied: seaborn in /opt/conda/lib/python3.9/site-packages (from missingno) (0.11.1)\n",
      "Requirement already satisfied: scipy in /opt/conda/lib/python3.9/site-packages (from missingno) (1.8.0)\n",
      "Requirement already satisfied: pyparsing!=2.0.4,!=2.1.2,!=2.1.6,>=2.0.3 in /opt/conda/lib/python3.9/site-packages (from matplotlib->missingno) (2.4.7)\n",
      "Requirement already satisfied: cycler>=0.10 in /opt/conda/lib/python3.9/site-packages (from matplotlib->missingno) (0.11.0)\n",
      "Requirement already satisfied: python-dateutil>=2.1 in /opt/conda/lib/python3.9/site-packages (from matplotlib->missingno) (2.8.1)\n",
      "Requirement already satisfied: kiwisolver>=1.0.1 in /opt/conda/lib/python3.9/site-packages (from matplotlib->missingno) (1.4.2)\n",
      "Requirement already satisfied: pillow>=6.2.0 in /opt/conda/lib/python3.9/site-packages (from matplotlib->missingno) (8.4.0)\n",
      "Requirement already satisfied: six>=1.5 in /opt/conda/lib/python3.9/site-packages (from python-dateutil>=2.1->matplotlib->missingno) (1.16.0)\n",
      "Requirement already satisfied: pandas>=0.23 in /opt/conda/lib/python3.9/site-packages (from seaborn->missingno) (1.2.4)\n",
      "Requirement already satisfied: pytz>=2017.3 in /opt/conda/lib/python3.9/site-packages (from pandas>=0.23->seaborn->missingno) (2021.1)\n",
      "Installing collected packages: missingno\n",
      "Successfully installed missingno-0.5.2\n"
     ]
    }
   ],
   "source": [
    "!pip install missingno"
   ]
  },
  {
   "cell_type": "code",
   "execution_count": 2,
   "metadata": {},
   "outputs": [],
   "source": [
    "from scipy import stats as st #for probability and calculation of statistics\n",
    "import pandas as pd #for dataframe manipulation\n",
    "import numpy as np #for advanced mathematic operation\n",
    "import matplotlib.pyplot as plt #for plotting and visualize graph\n",
    "import seaborn as sns\n",
    "import missingno as msno # visualize missing data in table form\n",
    "import nltk #for string/text manipulation"
   ]
  },
  {
   "cell_type": "code",
   "execution_count": 3,
   "metadata": {},
   "outputs": [],
   "source": [
    "# Loading note from the remote Jupyter Hub Notebook\n",
    "try:\n",
    "    games = pd.read_csv('/datasets/games.csv')\n",
    "# If dataset fails to be loaded from the remote Jupyter Hub Notebook\n",
    "# try loading dataset from my local path\n",
    "except:\n",
    "    # Try loading the file locally\n",
    "    try:\n",
    "        games = pd.read_csv(\"/User/deskstop/datasets/games.csv\")\n",
    "    # Run if dataset loading fails\n",
    "    except Exception as e:\n",
    "        print(f\"Error handling dataset loading: {e}\")  "
   ]
  },
  {
   "cell_type": "code",
   "execution_count": 4,
   "metadata": {},
   "outputs": [
    {
     "name": "stdout",
     "output_type": "stream",
     "text": [
      "<class 'pandas.core.frame.DataFrame'>\n",
      "RangeIndex: 16715 entries, 0 to 16714\n",
      "Data columns (total 11 columns):\n",
      " #   Column           Non-Null Count  Dtype  \n",
      "---  ------           --------------  -----  \n",
      " 0   Name             16713 non-null  object \n",
      " 1   Platform         16715 non-null  object \n",
      " 2   Year_of_Release  16446 non-null  float64\n",
      " 3   Genre            16713 non-null  object \n",
      " 4   NA_sales         16715 non-null  float64\n",
      " 5   EU_sales         16715 non-null  float64\n",
      " 6   JP_sales         16715 non-null  float64\n",
      " 7   Other_sales      16715 non-null  float64\n",
      " 8   Critic_Score     8137 non-null   float64\n",
      " 9   User_Score       10014 non-null  object \n",
      " 10  Rating           9949 non-null   object \n",
      "dtypes: float64(6), object(5)\n",
      "memory usage: 1.4+ MB\n"
     ]
    },
    {
     "data": {
      "text/html": [
       "<div>\n",
       "<style scoped>\n",
       "    .dataframe tbody tr th:only-of-type {\n",
       "        vertical-align: middle;\n",
       "    }\n",
       "\n",
       "    .dataframe tbody tr th {\n",
       "        vertical-align: top;\n",
       "    }\n",
       "\n",
       "    .dataframe thead th {\n",
       "        text-align: right;\n",
       "    }\n",
       "</style>\n",
       "<table border=\"1\" class=\"dataframe\">\n",
       "  <thead>\n",
       "    <tr style=\"text-align: right;\">\n",
       "      <th></th>\n",
       "      <th>Name</th>\n",
       "      <th>Platform</th>\n",
       "      <th>Year_of_Release</th>\n",
       "      <th>Genre</th>\n",
       "      <th>NA_sales</th>\n",
       "      <th>EU_sales</th>\n",
       "      <th>JP_sales</th>\n",
       "      <th>Other_sales</th>\n",
       "      <th>Critic_Score</th>\n",
       "      <th>User_Score</th>\n",
       "      <th>Rating</th>\n",
       "    </tr>\n",
       "  </thead>\n",
       "  <tbody>\n",
       "    <tr>\n",
       "      <th>0</th>\n",
       "      <td>Wii Sports</td>\n",
       "      <td>Wii</td>\n",
       "      <td>2006.0</td>\n",
       "      <td>Sports</td>\n",
       "      <td>41.36</td>\n",
       "      <td>28.96</td>\n",
       "      <td>3.77</td>\n",
       "      <td>8.45</td>\n",
       "      <td>76.0</td>\n",
       "      <td>8</td>\n",
       "      <td>E</td>\n",
       "    </tr>\n",
       "    <tr>\n",
       "      <th>1</th>\n",
       "      <td>Super Mario Bros.</td>\n",
       "      <td>NES</td>\n",
       "      <td>1985.0</td>\n",
       "      <td>Platform</td>\n",
       "      <td>29.08</td>\n",
       "      <td>3.58</td>\n",
       "      <td>6.81</td>\n",
       "      <td>0.77</td>\n",
       "      <td>NaN</td>\n",
       "      <td>NaN</td>\n",
       "      <td>NaN</td>\n",
       "    </tr>\n",
       "    <tr>\n",
       "      <th>2</th>\n",
       "      <td>Mario Kart Wii</td>\n",
       "      <td>Wii</td>\n",
       "      <td>2008.0</td>\n",
       "      <td>Racing</td>\n",
       "      <td>15.68</td>\n",
       "      <td>12.76</td>\n",
       "      <td>3.79</td>\n",
       "      <td>3.29</td>\n",
       "      <td>82.0</td>\n",
       "      <td>8.3</td>\n",
       "      <td>E</td>\n",
       "    </tr>\n",
       "    <tr>\n",
       "      <th>3</th>\n",
       "      <td>Wii Sports Resort</td>\n",
       "      <td>Wii</td>\n",
       "      <td>2009.0</td>\n",
       "      <td>Sports</td>\n",
       "      <td>15.61</td>\n",
       "      <td>10.93</td>\n",
       "      <td>3.28</td>\n",
       "      <td>2.95</td>\n",
       "      <td>80.0</td>\n",
       "      <td>8</td>\n",
       "      <td>E</td>\n",
       "    </tr>\n",
       "    <tr>\n",
       "      <th>4</th>\n",
       "      <td>Pokemon Red/Pokemon Blue</td>\n",
       "      <td>GB</td>\n",
       "      <td>1996.0</td>\n",
       "      <td>Role-Playing</td>\n",
       "      <td>11.27</td>\n",
       "      <td>8.89</td>\n",
       "      <td>10.22</td>\n",
       "      <td>1.00</td>\n",
       "      <td>NaN</td>\n",
       "      <td>NaN</td>\n",
       "      <td>NaN</td>\n",
       "    </tr>\n",
       "    <tr>\n",
       "      <th>5</th>\n",
       "      <td>Tetris</td>\n",
       "      <td>GB</td>\n",
       "      <td>1989.0</td>\n",
       "      <td>Puzzle</td>\n",
       "      <td>23.20</td>\n",
       "      <td>2.26</td>\n",
       "      <td>4.22</td>\n",
       "      <td>0.58</td>\n",
       "      <td>NaN</td>\n",
       "      <td>NaN</td>\n",
       "      <td>NaN</td>\n",
       "    </tr>\n",
       "    <tr>\n",
       "      <th>6</th>\n",
       "      <td>New Super Mario Bros.</td>\n",
       "      <td>DS</td>\n",
       "      <td>2006.0</td>\n",
       "      <td>Platform</td>\n",
       "      <td>11.28</td>\n",
       "      <td>9.14</td>\n",
       "      <td>6.50</td>\n",
       "      <td>2.88</td>\n",
       "      <td>89.0</td>\n",
       "      <td>8.5</td>\n",
       "      <td>E</td>\n",
       "    </tr>\n",
       "    <tr>\n",
       "      <th>7</th>\n",
       "      <td>Wii Play</td>\n",
       "      <td>Wii</td>\n",
       "      <td>2006.0</td>\n",
       "      <td>Misc</td>\n",
       "      <td>13.96</td>\n",
       "      <td>9.18</td>\n",
       "      <td>2.93</td>\n",
       "      <td>2.84</td>\n",
       "      <td>58.0</td>\n",
       "      <td>6.6</td>\n",
       "      <td>E</td>\n",
       "    </tr>\n",
       "    <tr>\n",
       "      <th>8</th>\n",
       "      <td>New Super Mario Bros. Wii</td>\n",
       "      <td>Wii</td>\n",
       "      <td>2009.0</td>\n",
       "      <td>Platform</td>\n",
       "      <td>14.44</td>\n",
       "      <td>6.94</td>\n",
       "      <td>4.70</td>\n",
       "      <td>2.24</td>\n",
       "      <td>87.0</td>\n",
       "      <td>8.4</td>\n",
       "      <td>E</td>\n",
       "    </tr>\n",
       "    <tr>\n",
       "      <th>9</th>\n",
       "      <td>Duck Hunt</td>\n",
       "      <td>NES</td>\n",
       "      <td>1984.0</td>\n",
       "      <td>Shooter</td>\n",
       "      <td>26.93</td>\n",
       "      <td>0.63</td>\n",
       "      <td>0.28</td>\n",
       "      <td>0.47</td>\n",
       "      <td>NaN</td>\n",
       "      <td>NaN</td>\n",
       "      <td>NaN</td>\n",
       "    </tr>\n",
       "  </tbody>\n",
       "</table>\n",
       "</div>"
      ],
      "text/plain": [
       "                        Name Platform  Year_of_Release         Genre  \\\n",
       "0                 Wii Sports      Wii           2006.0        Sports   \n",
       "1          Super Mario Bros.      NES           1985.0      Platform   \n",
       "2             Mario Kart Wii      Wii           2008.0        Racing   \n",
       "3          Wii Sports Resort      Wii           2009.0        Sports   \n",
       "4   Pokemon Red/Pokemon Blue       GB           1996.0  Role-Playing   \n",
       "5                     Tetris       GB           1989.0        Puzzle   \n",
       "6      New Super Mario Bros.       DS           2006.0      Platform   \n",
       "7                   Wii Play      Wii           2006.0          Misc   \n",
       "8  New Super Mario Bros. Wii      Wii           2009.0      Platform   \n",
       "9                  Duck Hunt      NES           1984.0       Shooter   \n",
       "\n",
       "   NA_sales  EU_sales  JP_sales  Other_sales  Critic_Score User_Score Rating  \n",
       "0     41.36     28.96      3.77         8.45          76.0          8      E  \n",
       "1     29.08      3.58      6.81         0.77           NaN        NaN    NaN  \n",
       "2     15.68     12.76      3.79         3.29          82.0        8.3      E  \n",
       "3     15.61     10.93      3.28         2.95          80.0          8      E  \n",
       "4     11.27      8.89     10.22         1.00           NaN        NaN    NaN  \n",
       "5     23.20      2.26      4.22         0.58           NaN        NaN    NaN  \n",
       "6     11.28      9.14      6.50         2.88          89.0        8.5      E  \n",
       "7     13.96      9.18      2.93         2.84          58.0        6.6      E  \n",
       "8     14.44      6.94      4.70         2.24          87.0        8.4      E  \n",
       "9     26.93      0.63      0.28         0.47           NaN        NaN    NaN  "
      ]
     },
     "execution_count": 4,
     "metadata": {},
     "output_type": "execute_result"
    }
   ],
   "source": [
    "games.info() #info on dataframe\n",
    "games.head(10) #first 10 rows of games dataframe"
   ]
  },
  {
   "cell_type": "markdown",
   "metadata": {},
   "source": [
    "Based on the observation on the dataframe, it can be observed that dataframe needs to be fixed:\n",
    "\n",
    "1. Rename column names to lowercase characters and replace them accordingly.\n",
    "2. *Name*: The two rows with missing values in the \"*Name*\" column will be left as it be. \n",
    "3. *Year_of_Release*: Convert the \"*Year_of_Release*\" column from floats to integers. The missing values can be replaced with median based on specific platform instead of global median.\n",
    "4. *Genre*: Fill the two missing values in the \"*Genre*\" column with 'Misc'.\n",
    "5. *Critic_score*: The missing values in the \"*Critic_score*\" column can be replaced with median. The missing values can be replaced with median based on specific genre instead of global median.\n",
    "6. *User_score*: Convert \"*User_score*\" to float and fill missing values.\n",
    "7. *Rating*: Fill missing values in the \"*Rating*\" with mode as it cannot be fill based on median and mean."
   ]
  },
  {
   "cell_type": "code",
   "execution_count": 5,
   "metadata": {
    "scrolled": true
   },
   "outputs": [
    {
     "data": {
      "text/plain": [
       "<AxesSubplot:>"
      ]
     },
     "execution_count": 5,
     "metadata": {},
     "output_type": "execute_result"
    },
    {
     "data": {
      "image/png": "[encoded data removed]",
      "text/plain": [
       "<Figure size 1800x720 with 2 Axes>"
      ]
     },
     "metadata": {
      "needs_background": "light"
     },
     "output_type": "display_data"
    }
   ],
   "source": [
    "msno.matrix(games) #visualize missing values"
   ]
  },
  {
   "cell_type": "markdown",
   "metadata": {},
   "source": [
    "<a id=\"2\"></a> \n",
    "# Stage 2: Data Preprocessing"
   ]
  },
  {
   "cell_type": "markdown",
   "metadata": {},
   "source": [
    "<a id=\"3\"></a> \n",
    "## Changing Column names to lowercase"
   ]
  },
  {
   "cell_type": "code",
   "execution_count": 6,
   "metadata": {},
   "outputs": [
    {
     "name": "stdout",
     "output_type": "stream",
     "text": [
      "<class 'pandas.core.frame.DataFrame'>\n",
      "RangeIndex: 16715 entries, 0 to 16714\n",
      "Data columns (total 11 columns):\n",
      " #   Column           Non-Null Count  Dtype  \n",
      "---  ------           --------------  -----  \n",
      " 0   name             16713 non-null  object \n",
      " 1   platform         16715 non-null  object \n",
      " 2   year_of_release  16446 non-null  float64\n",
      " 3   genre            16713 non-null  object \n",
      " 4   na_sales         16715 non-null  float64\n",
      " 5   eu_sales         16715 non-null  float64\n",
      " 6   jp_sales         16715 non-null  float64\n",
      " 7   other_sales      16715 non-null  float64\n",
      " 8   critic_score     8137 non-null   float64\n",
      " 9   user_score       10014 non-null  object \n",
      " 10  rating           9949 non-null   object \n",
      "dtypes: float64(6), object(5)\n",
      "memory usage: 1.4+ MB\n"
     ]
    }
   ],
   "source": [
    "games.columns = games.columns.str.lower()\n",
    "#changes the column names to lowercase and saves the changes\n",
    "\n",
    "games.info() "
   ]
  },
  {
   "cell_type": "markdown",
   "metadata": {},
   "source": [
    "<a id=\"4\"></a> \n",
    "## The 'name' column"
   ]
  },
  {
   "cell_type": "markdown",
   "metadata": {},
   "source": [
    "- There are only two missing values, which may have been omitted or lost during copying. Since there's no way to fill in the actual names of the games, these entries were dropped."
   ]
  },
  {
   "cell_type": "code",
   "execution_count": 7,
   "metadata": {},
   "outputs": [
    {
     "data": {
      "text/plain": [
       "array(['Wii Sports', 'Super Mario Bros.', 'Mario Kart Wii', ...,\n",
       "       'Woody Woodpecker in Crazy Castle 5', 'LMA Manager 2007',\n",
       "       'Haitaka no Psychedelica'], dtype=object)"
      ]
     },
     "execution_count": 7,
     "metadata": {},
     "output_type": "execute_result"
    }
   ],
   "source": [
    "games['name'].unique() #check all the unique values in the name column"
   ]
  },
  {
   "cell_type": "code",
   "execution_count": 8,
   "metadata": {},
   "outputs": [
    {
     "data": {
      "text/plain": [
       "array([' Beyblade Burst', ' Fire Emblem Fates', \" Frozen: Olaf's Quest\",\n",
       "       ..., 'wwe Smackdown vs. Raw 2006', '¡Shin Chan Flipa en colores!',\n",
       "       nan], dtype=object)"
      ]
     },
     "execution_count": 8,
     "metadata": {},
     "output_type": "execute_result"
    }
   ],
   "source": [
    "games['name'].sort_values().unique()"
   ]
  },
  {
   "cell_type": "code",
   "execution_count": 9,
   "metadata": {},
   "outputs": [
    {
     "data": {
      "text/plain": [
       "array([\"'98 Koshien\", '.hack//G.U. Vol.1//Rebirth',\n",
       "       '.hack//G.U. Vol.2//Reminisce', ..., 'wwe Smackdown vs. Raw 2006',\n",
       "       '¡Shin Chan Flipa en colores!', nan], dtype=object)"
      ]
     },
     "execution_count": 9,
     "metadata": {},
     "output_type": "execute_result"
    }
   ],
   "source": [
    "# Remove leading and trailing spaces from game names\n",
    "games['name'] = games['name'].str.strip()\n",
    "\n",
    "# Sort and print unique game names\n",
    "unique_game_names = games['name'].sort_values().unique()\n",
    "unique_game_names"
   ]
  },
  {
   "cell_type": "markdown",
   "metadata": {},
   "source": [
    "- Based on the result, it can be notice that From the output of games['name'].sort_values().unique(), it seems that some game names have leading spaces, such as ' Beyblade Burst', ' Bimoji Training', ' Bungaku Zenshuu', and so on.\n",
    "\n",
    "- This leading space in the game names can potentially affect search operations, especially if users are not aware of the leading space. When searching for a game, users may not find the desired game if they don't include the leading space in their search query.\n",
    "\n",
    "- To address this issue, we can remove leading and trailing spaces from the game names using string manipulation techniques. We can utilize the .str.strip() method in Pandas to remove leading and trailing spaces from each game name before further processing or analysis."
   ]
  },
  {
   "cell_type": "code",
   "execution_count": 10,
   "metadata": {},
   "outputs": [
    {
     "data": {
      "text/html": [
       "<div>\n",
       "<style scoped>\n",
       "    .dataframe tbody tr th:only-of-type {\n",
       "        vertical-align: middle;\n",
       "    }\n",
       "\n",
       "    .dataframe tbody tr th {\n",
       "        vertical-align: top;\n",
       "    }\n",
       "\n",
       "    .dataframe thead th {\n",
       "        text-align: right;\n",
       "    }\n",
       "</style>\n",
       "<table border=\"1\" class=\"dataframe\">\n",
       "  <thead>\n",
       "    <tr style=\"text-align: right;\">\n",
       "      <th></th>\n",
       "      <th>name</th>\n",
       "      <th>platform</th>\n",
       "      <th>year_of_release</th>\n",
       "      <th>genre</th>\n",
       "      <th>na_sales</th>\n",
       "      <th>eu_sales</th>\n",
       "      <th>jp_sales</th>\n",
       "      <th>other_sales</th>\n",
       "      <th>critic_score</th>\n",
       "      <th>user_score</th>\n",
       "      <th>rating</th>\n",
       "    </tr>\n",
       "  </thead>\n",
       "  <tbody>\n",
       "    <tr>\n",
       "      <th>659</th>\n",
       "      <td>NaN</td>\n",
       "      <td>GEN</td>\n",
       "      <td>1993.0</td>\n",
       "      <td>NaN</td>\n",
       "      <td>1.78</td>\n",
       "      <td>0.53</td>\n",
       "      <td>0.00</td>\n",
       "      <td>0.08</td>\n",
       "      <td>NaN</td>\n",
       "      <td>NaN</td>\n",
       "      <td>NaN</td>\n",
       "    </tr>\n",
       "    <tr>\n",
       "      <th>14244</th>\n",
       "      <td>NaN</td>\n",
       "      <td>GEN</td>\n",
       "      <td>1993.0</td>\n",
       "      <td>NaN</td>\n",
       "      <td>0.00</td>\n",
       "      <td>0.00</td>\n",
       "      <td>0.03</td>\n",
       "      <td>0.00</td>\n",
       "      <td>NaN</td>\n",
       "      <td>NaN</td>\n",
       "      <td>NaN</td>\n",
       "    </tr>\n",
       "  </tbody>\n",
       "</table>\n",
       "</div>"
      ],
      "text/plain": [
       "      name platform  year_of_release genre  na_sales  eu_sales  jp_sales  \\\n",
       "659    NaN      GEN           1993.0   NaN      1.78      0.53      0.00   \n",
       "14244  NaN      GEN           1993.0   NaN      0.00      0.00      0.03   \n",
       "\n",
       "       other_sales  critic_score user_score rating  \n",
       "659           0.08           NaN        NaN    NaN  \n",
       "14244         0.00           NaN        NaN    NaN  "
      ]
     },
     "execution_count": 10,
     "metadata": {},
     "output_type": "execute_result"
    }
   ],
   "source": [
    "games.query('name.isna()')"
   ]
  },
  {
   "cell_type": "markdown",
   "metadata": {},
   "source": [
    "- Based on the observation, it would be advisable to remove both row because the genre, user_score, critc_score, rating also at NaN values. In addition, the unknown name cannot be guessed easily, thus it will better to remove it, as it only had two missing row values and not has huge impact on datasets."
   ]
  },
  {
   "cell_type": "code",
   "execution_count": 11,
   "metadata": {},
   "outputs": [],
   "source": [
    "games = games.dropna(subset=['name']) # drops two row"
   ]
  },
  {
   "cell_type": "markdown",
   "metadata": {},
   "source": [
    "<a id=\"5\"></a> \n",
    "## The 'year_of_release' column"
   ]
  },
  {
   "cell_type": "markdown",
   "metadata": {},
   "source": [
    "- Check for missing 'year_of_release' values in dataset\n",
    "- Change the 'year_of_release' data to int instead of float"
   ]
  },
  {
   "cell_type": "code",
   "execution_count": 12,
   "metadata": {},
   "outputs": [
    {
     "data": {
      "text/html": [
       "<div>\n",
       "<style scoped>\n",
       "    .dataframe tbody tr th:only-of-type {\n",
       "        vertical-align: middle;\n",
       "    }\n",
       "\n",
       "    .dataframe tbody tr th {\n",
       "        vertical-align: top;\n",
       "    }\n",
       "\n",
       "    .dataframe thead th {\n",
       "        text-align: right;\n",
       "    }\n",
       "</style>\n",
       "<table border=\"1\" class=\"dataframe\">\n",
       "  <thead>\n",
       "    <tr style=\"text-align: right;\">\n",
       "      <th></th>\n",
       "      <th>name</th>\n",
       "      <th>platform</th>\n",
       "      <th>year_of_release</th>\n",
       "      <th>genre</th>\n",
       "      <th>na_sales</th>\n",
       "      <th>eu_sales</th>\n",
       "      <th>jp_sales</th>\n",
       "      <th>other_sales</th>\n",
       "      <th>critic_score</th>\n",
       "      <th>user_score</th>\n",
       "      <th>rating</th>\n",
       "    </tr>\n",
       "  </thead>\n",
       "  <tbody>\n",
       "    <tr>\n",
       "      <th>183</th>\n",
       "      <td>Madden NFL 2004</td>\n",
       "      <td>PS2</td>\n",
       "      <td>NaN</td>\n",
       "      <td>Sports</td>\n",
       "      <td>4.26</td>\n",
       "      <td>0.26</td>\n",
       "      <td>0.01</td>\n",
       "      <td>0.71</td>\n",
       "      <td>94.0</td>\n",
       "      <td>8.5</td>\n",
       "      <td>E</td>\n",
       "    </tr>\n",
       "    <tr>\n",
       "      <th>377</th>\n",
       "      <td>FIFA Soccer 2004</td>\n",
       "      <td>PS2</td>\n",
       "      <td>NaN</td>\n",
       "      <td>Sports</td>\n",
       "      <td>0.59</td>\n",
       "      <td>2.36</td>\n",
       "      <td>0.04</td>\n",
       "      <td>0.51</td>\n",
       "      <td>84.0</td>\n",
       "      <td>6.4</td>\n",
       "      <td>E</td>\n",
       "    </tr>\n",
       "    <tr>\n",
       "      <th>456</th>\n",
       "      <td>LEGO Batman: The Videogame</td>\n",
       "      <td>Wii</td>\n",
       "      <td>NaN</td>\n",
       "      <td>Action</td>\n",
       "      <td>1.80</td>\n",
       "      <td>0.97</td>\n",
       "      <td>0.00</td>\n",
       "      <td>0.29</td>\n",
       "      <td>74.0</td>\n",
       "      <td>7.9</td>\n",
       "      <td>E10+</td>\n",
       "    </tr>\n",
       "    <tr>\n",
       "      <th>475</th>\n",
       "      <td>wwe Smackdown vs. Raw 2006</td>\n",
       "      <td>PS2</td>\n",
       "      <td>NaN</td>\n",
       "      <td>Fighting</td>\n",
       "      <td>1.57</td>\n",
       "      <td>1.02</td>\n",
       "      <td>0.00</td>\n",
       "      <td>0.41</td>\n",
       "      <td>NaN</td>\n",
       "      <td>NaN</td>\n",
       "      <td>NaN</td>\n",
       "    </tr>\n",
       "    <tr>\n",
       "      <th>609</th>\n",
       "      <td>Space Invaders</td>\n",
       "      <td>2600</td>\n",
       "      <td>NaN</td>\n",
       "      <td>Shooter</td>\n",
       "      <td>2.36</td>\n",
       "      <td>0.14</td>\n",
       "      <td>0.00</td>\n",
       "      <td>0.03</td>\n",
       "      <td>NaN</td>\n",
       "      <td>NaN</td>\n",
       "      <td>NaN</td>\n",
       "    </tr>\n",
       "    <tr>\n",
       "      <th>...</th>\n",
       "      <td>...</td>\n",
       "      <td>...</td>\n",
       "      <td>...</td>\n",
       "      <td>...</td>\n",
       "      <td>...</td>\n",
       "      <td>...</td>\n",
       "      <td>...</td>\n",
       "      <td>...</td>\n",
       "      <td>...</td>\n",
       "      <td>...</td>\n",
       "      <td>...</td>\n",
       "    </tr>\n",
       "    <tr>\n",
       "      <th>16373</th>\n",
       "      <td>PDC World Championship Darts 2008</td>\n",
       "      <td>PSP</td>\n",
       "      <td>NaN</td>\n",
       "      <td>Sports</td>\n",
       "      <td>0.01</td>\n",
       "      <td>0.00</td>\n",
       "      <td>0.00</td>\n",
       "      <td>0.00</td>\n",
       "      <td>43.0</td>\n",
       "      <td>tbd</td>\n",
       "      <td>E10+</td>\n",
       "    </tr>\n",
       "    <tr>\n",
       "      <th>16405</th>\n",
       "      <td>Freaky Flyers</td>\n",
       "      <td>GC</td>\n",
       "      <td>NaN</td>\n",
       "      <td>Racing</td>\n",
       "      <td>0.01</td>\n",
       "      <td>0.00</td>\n",
       "      <td>0.00</td>\n",
       "      <td>0.00</td>\n",
       "      <td>69.0</td>\n",
       "      <td>6.5</td>\n",
       "      <td>T</td>\n",
       "    </tr>\n",
       "    <tr>\n",
       "      <th>16448</th>\n",
       "      <td>Inversion</td>\n",
       "      <td>PC</td>\n",
       "      <td>NaN</td>\n",
       "      <td>Shooter</td>\n",
       "      <td>0.01</td>\n",
       "      <td>0.00</td>\n",
       "      <td>0.00</td>\n",
       "      <td>0.00</td>\n",
       "      <td>59.0</td>\n",
       "      <td>6.7</td>\n",
       "      <td>M</td>\n",
       "    </tr>\n",
       "    <tr>\n",
       "      <th>16458</th>\n",
       "      <td>Hakuouki: Shinsengumi Kitan</td>\n",
       "      <td>PS3</td>\n",
       "      <td>NaN</td>\n",
       "      <td>Adventure</td>\n",
       "      <td>0.01</td>\n",
       "      <td>0.00</td>\n",
       "      <td>0.00</td>\n",
       "      <td>0.00</td>\n",
       "      <td>NaN</td>\n",
       "      <td>NaN</td>\n",
       "      <td>NaN</td>\n",
       "    </tr>\n",
       "    <tr>\n",
       "      <th>16522</th>\n",
       "      <td>Virtua Quest</td>\n",
       "      <td>GC</td>\n",
       "      <td>NaN</td>\n",
       "      <td>Role-Playing</td>\n",
       "      <td>0.01</td>\n",
       "      <td>0.00</td>\n",
       "      <td>0.00</td>\n",
       "      <td>0.00</td>\n",
       "      <td>55.0</td>\n",
       "      <td>5.5</td>\n",
       "      <td>T</td>\n",
       "    </tr>\n",
       "  </tbody>\n",
       "</table>\n",
       "<p>269 rows × 11 columns</p>\n",
       "</div>"
      ],
      "text/plain": [
       "                                    name platform  year_of_release  \\\n",
       "183                      Madden NFL 2004      PS2              NaN   \n",
       "377                     FIFA Soccer 2004      PS2              NaN   \n",
       "456           LEGO Batman: The Videogame      Wii              NaN   \n",
       "475           wwe Smackdown vs. Raw 2006      PS2              NaN   \n",
       "609                       Space Invaders     2600              NaN   \n",
       "...                                  ...      ...              ...   \n",
       "16373  PDC World Championship Darts 2008      PSP              NaN   \n",
       "16405                      Freaky Flyers       GC              NaN   \n",
       "16448                          Inversion       PC              NaN   \n",
       "16458        Hakuouki: Shinsengumi Kitan      PS3              NaN   \n",
       "16522                       Virtua Quest       GC              NaN   \n",
       "\n",
       "              genre  na_sales  eu_sales  jp_sales  other_sales  critic_score  \\\n",
       "183          Sports      4.26      0.26      0.01         0.71          94.0   \n",
       "377          Sports      0.59      2.36      0.04         0.51          84.0   \n",
       "456          Action      1.80      0.97      0.00         0.29          74.0   \n",
       "475        Fighting      1.57      1.02      0.00         0.41           NaN   \n",
       "609         Shooter      2.36      0.14      0.00         0.03           NaN   \n",
       "...             ...       ...       ...       ...          ...           ...   \n",
       "16373        Sports      0.01      0.00      0.00         0.00          43.0   \n",
       "16405        Racing      0.01      0.00      0.00         0.00          69.0   \n",
       "16448       Shooter      0.01      0.00      0.00         0.00          59.0   \n",
       "16458     Adventure      0.01      0.00      0.00         0.00           NaN   \n",
       "16522  Role-Playing      0.01      0.00      0.00         0.00          55.0   \n",
       "\n",
       "      user_score rating  \n",
       "183          8.5      E  \n",
       "377          6.4      E  \n",
       "456          7.9   E10+  \n",
       "475          NaN    NaN  \n",
       "609          NaN    NaN  \n",
       "...          ...    ...  \n",
       "16373        tbd   E10+  \n",
       "16405        6.5      T  \n",
       "16448        6.7      M  \n",
       "16458        NaN    NaN  \n",
       "16522        5.5      T  \n",
       "\n",
       "[269 rows x 11 columns]"
      ]
     },
     "execution_count": 12,
     "metadata": {},
     "output_type": "execute_result"
    }
   ],
   "source": [
    "games.query('year_of_release.isna()') # check the missing values"
   ]
  },
  {
   "cell_type": "code",
   "execution_count": 13,
   "metadata": {},
   "outputs": [
    {
     "name": "stdout",
     "output_type": "stream",
     "text": [
      "2016.0     502\n",
      "2015.0     606\n",
      "2014.0     581\n",
      "2013.0     544\n",
      "2012.0     653\n",
      "2011.0    1136\n",
      "2010.0    1255\n",
      "2009.0    1426\n",
      "2008.0    1427\n",
      "2007.0    1197\n",
      "2006.0    1006\n",
      "2005.0     939\n",
      "2004.0     762\n",
      "2003.0     775\n",
      "2002.0     829\n",
      "2001.0     482\n",
      "2000.0     350\n",
      "1999.0     338\n",
      "1998.0     379\n",
      "1997.0     289\n",
      "1996.0     263\n",
      "1995.0     219\n",
      "1994.0     121\n",
      "1993.0      60\n",
      "1992.0      43\n",
      "1991.0      41\n",
      "1990.0      16\n",
      "1989.0      17\n",
      "1988.0      15\n",
      "1987.0      16\n",
      "1986.0      21\n",
      "1985.0      14\n",
      "1984.0      14\n",
      "1983.0      17\n",
      "1982.0      36\n",
      "1981.0      46\n",
      "1980.0       9\n",
      "Name: year_of_release, dtype: int64\n"
     ]
    }
   ],
   "source": [
    "# Count the number of games released in different years\n",
    "games_per_year = games['year_of_release'].value_counts()\n",
    "\n",
    "# Sort the index (years) in descending order\n",
    "games_per_year = games_per_year.sort_index(ascending=False)\n",
    "\n",
    "# Print the result\n",
    "print(games_per_year)"
   ]
  },
  {
   "cell_type": "code",
   "execution_count": 14,
   "metadata": {},
   "outputs": [],
   "source": [
    "games = games.dropna(subset=['year_of_release']) # remove missing values in year_of_release"
   ]
  },
  {
   "cell_type": "markdown",
   "metadata": {},
   "source": [
    "- The missing 'year_of_release' column could be dropped. It was dropped because we want an accurate representation of the data for the next analysis. In addition, it can be mentioned that data for every period is significant for next analysis."
   ]
  },
  {
   "cell_type": "code",
   "execution_count": 15,
   "metadata": {},
   "outputs": [
    {
     "name": "stdout",
     "output_type": "stream",
     "text": [
      "<class 'pandas.core.frame.DataFrame'>\n",
      "Int64Index: 16444 entries, 0 to 16714\n",
      "Data columns (total 11 columns):\n",
      " #   Column           Non-Null Count  Dtype  \n",
      "---  ------           --------------  -----  \n",
      " 0   name             16444 non-null  object \n",
      " 1   platform         16444 non-null  object \n",
      " 2   year_of_release  16444 non-null  int64  \n",
      " 3   genre            16444 non-null  object \n",
      " 4   na_sales         16444 non-null  float64\n",
      " 5   eu_sales         16444 non-null  float64\n",
      " 6   jp_sales         16444 non-null  float64\n",
      " 7   other_sales      16444 non-null  float64\n",
      " 8   critic_score     7983 non-null   float64\n",
      " 9   user_score       9839 non-null   object \n",
      " 10  rating           9768 non-null   object \n",
      "dtypes: float64(5), int64(1), object(5)\n",
      "memory usage: 1.5+ MB\n"
     ]
    }
   ],
   "source": [
    "games['year_of_release'] = games['year_of_release'].astype('int')\n",
    "#converts the values of the 'year_of_release' to integers type\n",
    "\n",
    "games.info()#general info about games dataframe"
   ]
  },
  {
   "cell_type": "markdown",
   "metadata": {},
   "source": [
    "<a id=\"6\"></a> \n",
    "## The 'genre' column"
   ]
  },
  {
   "cell_type": "code",
   "execution_count": 16,
   "metadata": {},
   "outputs": [
    {
     "data": {
      "text/html": [
       "<div>\n",
       "<style scoped>\n",
       "    .dataframe tbody tr th:only-of-type {\n",
       "        vertical-align: middle;\n",
       "    }\n",
       "\n",
       "    .dataframe tbody tr th {\n",
       "        vertical-align: top;\n",
       "    }\n",
       "\n",
       "    .dataframe thead th {\n",
       "        text-align: right;\n",
       "    }\n",
       "</style>\n",
       "<table border=\"1\" class=\"dataframe\">\n",
       "  <thead>\n",
       "    <tr style=\"text-align: right;\">\n",
       "      <th></th>\n",
       "      <th>name</th>\n",
       "      <th>platform</th>\n",
       "      <th>year_of_release</th>\n",
       "      <th>genre</th>\n",
       "      <th>na_sales</th>\n",
       "      <th>eu_sales</th>\n",
       "      <th>jp_sales</th>\n",
       "      <th>other_sales</th>\n",
       "      <th>critic_score</th>\n",
       "      <th>user_score</th>\n",
       "      <th>rating</th>\n",
       "    </tr>\n",
       "  </thead>\n",
       "  <tbody>\n",
       "    <tr>\n",
       "      <th>0</th>\n",
       "      <td>Wii Sports</td>\n",
       "      <td>Wii</td>\n",
       "      <td>2006</td>\n",
       "      <td>Sports</td>\n",
       "      <td>41.36</td>\n",
       "      <td>28.96</td>\n",
       "      <td>3.77</td>\n",
       "      <td>8.45</td>\n",
       "      <td>76.0</td>\n",
       "      <td>8</td>\n",
       "      <td>E</td>\n",
       "    </tr>\n",
       "    <tr>\n",
       "      <th>1</th>\n",
       "      <td>Super Mario Bros.</td>\n",
       "      <td>NES</td>\n",
       "      <td>1985</td>\n",
       "      <td>Platform</td>\n",
       "      <td>29.08</td>\n",
       "      <td>3.58</td>\n",
       "      <td>6.81</td>\n",
       "      <td>0.77</td>\n",
       "      <td>NaN</td>\n",
       "      <td>NaN</td>\n",
       "      <td>NaN</td>\n",
       "    </tr>\n",
       "    <tr>\n",
       "      <th>2</th>\n",
       "      <td>Mario Kart Wii</td>\n",
       "      <td>Wii</td>\n",
       "      <td>2008</td>\n",
       "      <td>Racing</td>\n",
       "      <td>15.68</td>\n",
       "      <td>12.76</td>\n",
       "      <td>3.79</td>\n",
       "      <td>3.29</td>\n",
       "      <td>82.0</td>\n",
       "      <td>8.3</td>\n",
       "      <td>E</td>\n",
       "    </tr>\n",
       "    <tr>\n",
       "      <th>3</th>\n",
       "      <td>Wii Sports Resort</td>\n",
       "      <td>Wii</td>\n",
       "      <td>2009</td>\n",
       "      <td>Sports</td>\n",
       "      <td>15.61</td>\n",
       "      <td>10.93</td>\n",
       "      <td>3.28</td>\n",
       "      <td>2.95</td>\n",
       "      <td>80.0</td>\n",
       "      <td>8</td>\n",
       "      <td>E</td>\n",
       "    </tr>\n",
       "    <tr>\n",
       "      <th>4</th>\n",
       "      <td>Pokemon Red/Pokemon Blue</td>\n",
       "      <td>GB</td>\n",
       "      <td>1996</td>\n",
       "      <td>Role-Playing</td>\n",
       "      <td>11.27</td>\n",
       "      <td>8.89</td>\n",
       "      <td>10.22</td>\n",
       "      <td>1.00</td>\n",
       "      <td>NaN</td>\n",
       "      <td>NaN</td>\n",
       "      <td>NaN</td>\n",
       "    </tr>\n",
       "  </tbody>\n",
       "</table>\n",
       "</div>"
      ],
      "text/plain": [
       "                       name platform  year_of_release         genre  na_sales  \\\n",
       "0                Wii Sports      Wii             2006        Sports     41.36   \n",
       "1         Super Mario Bros.      NES             1985      Platform     29.08   \n",
       "2            Mario Kart Wii      Wii             2008        Racing     15.68   \n",
       "3         Wii Sports Resort      Wii             2009        Sports     15.61   \n",
       "4  Pokemon Red/Pokemon Blue       GB             1996  Role-Playing     11.27   \n",
       "\n",
       "   eu_sales  jp_sales  other_sales  critic_score user_score rating  \n",
       "0     28.96      3.77         8.45          76.0          8      E  \n",
       "1      3.58      6.81         0.77           NaN        NaN    NaN  \n",
       "2     12.76      3.79         3.29          82.0        8.3      E  \n",
       "3     10.93      3.28         2.95          80.0          8      E  \n",
       "4      8.89     10.22         1.00           NaN        NaN    NaN  "
      ]
     },
     "execution_count": 16,
     "metadata": {},
     "output_type": "execute_result"
    }
   ],
   "source": [
    "games['genre'] = games['genre'].fillna('Misc')\n",
    "#fills missing values in the genre column with 'Misc'\n",
    "games.head()"
   ]
  },
  {
   "cell_type": "markdown",
   "metadata": {},
   "source": [
    "- The missing values had been filled with 'Misc'"
   ]
  },
  {
   "cell_type": "code",
   "execution_count": 17,
   "metadata": {},
   "outputs": [
    {
     "name": "stdout",
     "output_type": "stream",
     "text": [
      "<class 'pandas.core.frame.DataFrame'>\n",
      "Int64Index: 16444 entries, 0 to 16714\n",
      "Data columns (total 11 columns):\n",
      " #   Column           Non-Null Count  Dtype  \n",
      "---  ------           --------------  -----  \n",
      " 0   name             16444 non-null  object \n",
      " 1   platform         16444 non-null  object \n",
      " 2   year_of_release  16444 non-null  int64  \n",
      " 3   genre            16444 non-null  object \n",
      " 4   na_sales         16444 non-null  float64\n",
      " 5   eu_sales         16444 non-null  float64\n",
      " 6   jp_sales         16444 non-null  float64\n",
      " 7   other_sales      16444 non-null  float64\n",
      " 8   critic_score     7983 non-null   float64\n",
      " 9   user_score       9839 non-null   object \n",
      " 10  rating           9768 non-null   object \n",
      "dtypes: float64(5), int64(1), object(5)\n",
      "memory usage: 1.5+ MB\n"
     ]
    }
   ],
   "source": [
    "games['genre'].unique() #check all the unique values in the genre column\n",
    "games.info()"
   ]
  },
  {
   "cell_type": "markdown",
   "metadata": {},
   "source": [
    "<a id=\"7\"></a> \n",
    "## The 'critic_score' column"
   ]
  },
  {
   "cell_type": "markdown",
   "metadata": {},
   "source": [
    "- The missing values in the critic_score column need to be replaced with the median score value based on respective genre instead of global median.\n",
    "- Every missing critic_score value will be filled with the median critic_score value for its genre.\n",
    "- Check for missing 'critic_score' values in data by making a new function.\n",
    "- If a missing value is found, it will check its genre, then return the median critic_Score value for the genre from grouped data"
   ]
  },
  {
   "cell_type": "code",
   "execution_count": 18,
   "metadata": {},
   "outputs": [
    {
     "name": "stdout",
     "output_type": "stream",
     "text": [
      "<class 'pandas.core.frame.DataFrame'>\n",
      "Int64Index: 16444 entries, 0 to 16714\n",
      "Data columns (total 11 columns):\n",
      " #   Column           Non-Null Count  Dtype  \n",
      "---  ------           --------------  -----  \n",
      " 0   name             16444 non-null  object \n",
      " 1   platform         16444 non-null  object \n",
      " 2   year_of_release  16444 non-null  int64  \n",
      " 3   genre            16444 non-null  object \n",
      " 4   na_sales         16444 non-null  float64\n",
      " 5   eu_sales         16444 non-null  float64\n",
      " 6   jp_sales         16444 non-null  float64\n",
      " 7   other_sales      16444 non-null  float64\n",
      " 8   critic_score     16444 non-null  float64\n",
      " 9   user_score       9839 non-null   object \n",
      " 10  rating           9768 non-null   object \n",
      "dtypes: float64(5), int64(1), object(5)\n",
      "memory usage: 1.5+ MB\n"
     ]
    }
   ],
   "source": [
    "critic_score_mapper = games.groupby('genre')['critic_score'].median().to_dict()\n",
    "#this groups 'games' by genre,then calculates the median critic score\n",
    "\n",
    "def critic_score_fill(row): #makes a function called critic_score_fill that takes a variable 'row' as argument\n",
    "    \n",
    "    if np.isnan(row['critic_score']): #if the critic_score value is missing\n",
    "        return critic_score_mapper.get(row['genre'])\n",
    "        #returns the median critic_score value for genre from critic_score_mapper\n",
    "        \n",
    "    return row['critic_score'] #returns the existing critic score value if it wasn't missing\n",
    "\n",
    "games['critic_score'] = games.apply(critic_score_fill, axis=1)\n",
    "#applies the c_score_fill function to datagames table and saves the results to the critic_score column\n",
    "\n",
    "games.info()"
   ]
  },
  {
   "cell_type": "markdown",
   "metadata": {},
   "source": [
    "<a id=\"8\"></a> \n",
    "## The 'user_score' column"
   ]
  },
  {
   "cell_type": "markdown",
   "metadata": {},
   "source": [
    "- It can be observed that the data type is object type even though mostly had numbers. This means that it can take text string values also. The data needs to be converted to float as mostly data in the form of 7.8, 8.3,....."
   ]
  },
  {
   "cell_type": "code",
   "execution_count": 19,
   "metadata": {
    "scrolled": true
   },
   "outputs": [
    {
     "data": {
      "text/plain": [
       "tbd    2376\n",
       "7.8     322\n",
       "8       285\n",
       "8.2     276\n",
       "8.3     252\n",
       "       ... \n",
       "0.6       2\n",
       "1.9       2\n",
       "1.5       2\n",
       "9.7       1\n",
       "0         1\n",
       "Name: user_score, Length: 96, dtype: int64"
      ]
     },
     "execution_count": 19,
     "metadata": {},
     "output_type": "execute_result"
    }
   ],
   "source": [
    "games['user_score'].value_counts()"
   ]
  },
  {
   "cell_type": "markdown",
   "metadata": {},
   "source": [
    "- It can be observed that there was 'tbd' at large number which is at 2376, where it means that the games are yet to be reviewed.\n",
    "- Considering that our analysis will involve studying the impact of reviews on sales, treating \"tbd\" as equivalent to no review seems appropriate. Thus, we will replace all instances of \"tbd\" with NaN values. "
   ]
  },
  {
   "cell_type": "code",
   "execution_count": 20,
   "metadata": {},
   "outputs": [
    {
     "name": "stdout",
     "output_type": "stream",
     "text": [
      "<class 'pandas.core.frame.DataFrame'>\n",
      "Int64Index: 16444 entries, 0 to 16714\n",
      "Data columns (total 11 columns):\n",
      " #   Column           Non-Null Count  Dtype  \n",
      "---  ------           --------------  -----  \n",
      " 0   name             16444 non-null  object \n",
      " 1   platform         16444 non-null  object \n",
      " 2   year_of_release  16444 non-null  int64  \n",
      " 3   genre            16444 non-null  object \n",
      " 4   na_sales         16444 non-null  float64\n",
      " 5   eu_sales         16444 non-null  float64\n",
      " 6   jp_sales         16444 non-null  float64\n",
      " 7   other_sales      16444 non-null  float64\n",
      " 8   critic_score     16444 non-null  float64\n",
      " 9   user_score       7463 non-null   float64\n",
      " 10  rating           9768 non-null   object \n",
      "dtypes: float64(6), int64(1), object(4)\n",
      "memory usage: 1.5+ MB\n"
     ]
    }
   ],
   "source": [
    "games['user_score'] = games['user_score'].replace({'tbd' : np.nan})\n",
    "#replaces every 'tbd' value in the user_score column to NaN (missing values)\n",
    "\n",
    "games['user_score'] = games['user_score'].astype('float')\n",
    "#converts the data in the user_score column to float type\n",
    "\n",
    "games.info()"
   ]
  },
  {
   "cell_type": "markdown",
   "metadata": {},
   "source": [
    "- The remaining missing values in the user_score will be filled with mean"
   ]
  },
  {
   "cell_type": "code",
   "execution_count": 21,
   "metadata": {},
   "outputs": [
    {
     "name": "stdout",
     "output_type": "stream",
     "text": [
      "<class 'pandas.core.frame.DataFrame'>\n",
      "Int64Index: 16444 entries, 0 to 16714\n",
      "Data columns (total 11 columns):\n",
      " #   Column           Non-Null Count  Dtype  \n",
      "---  ------           --------------  -----  \n",
      " 0   name             16444 non-null  object \n",
      " 1   platform         16444 non-null  object \n",
      " 2   year_of_release  16444 non-null  int64  \n",
      " 3   genre            16444 non-null  object \n",
      " 4   na_sales         16444 non-null  float64\n",
      " 5   eu_sales         16444 non-null  float64\n",
      " 6   jp_sales         16444 non-null  float64\n",
      " 7   other_sales      16444 non-null  float64\n",
      " 8   critic_score     16444 non-null  float64\n",
      " 9   user_score       16444 non-null  float64\n",
      " 10  rating           9768 non-null   object \n",
      "dtypes: float64(6), int64(1), object(4)\n",
      "memory usage: 1.5+ MB\n"
     ]
    }
   ],
   "source": [
    "games['user_score'] = games['user_score'].fillna(games['user_score'].mean())\n",
    "#replaces the missing values in the user_score with the mean value of user_score column\n",
    "\n",
    "games.info()"
   ]
  },
  {
   "cell_type": "markdown",
   "metadata": {},
   "source": [
    "<a id=\"9\"></a> \n",
    "## The 'rating' column"
   ]
  },
  {
   "cell_type": "code",
   "execution_count": 22,
   "metadata": {},
   "outputs": [
    {
     "data": {
      "text/plain": [
       "array(['E', nan, 'M', 'T', 'E10+', 'K-A', 'AO', 'EC', 'RP'], dtype=object)"
      ]
     },
     "execution_count": 22,
     "metadata": {},
     "output_type": "execute_result"
    }
   ],
   "source": [
    "games['rating'].unique() #displays unique values for the rating column"
   ]
  },
  {
   "cell_type": "markdown",
   "metadata": {},
   "source": [
    "- This is categorical column. So, the missing values cannot be replaced with the values of mean or median. What can be used is mode.\n",
    "- We'll group the games dataframe by genre and determine the most prevalent rating for each genre. Then, we'll convert the resulting dataframe into a dictionary.\n",
    "- After that, a function can be made where it checks for rows with missing values in the rating column, checks their genre and returns the most popular rating for that genre.\n",
    "- That function then can be applied to the games table and results saved."
   ]
  },
  {
   "cell_type": "code",
   "execution_count": 23,
   "metadata": {},
   "outputs": [
    {
     "name": "stdout",
     "output_type": "stream",
     "text": [
      "<class 'pandas.core.frame.DataFrame'>\n",
      "Int64Index: 16444 entries, 0 to 16714\n",
      "Data columns (total 11 columns):\n",
      " #   Column           Non-Null Count  Dtype  \n",
      "---  ------           --------------  -----  \n",
      " 0   name             16444 non-null  object \n",
      " 1   platform         16444 non-null  object \n",
      " 2   year_of_release  16444 non-null  int64  \n",
      " 3   genre            16444 non-null  object \n",
      " 4   na_sales         16444 non-null  float64\n",
      " 5   eu_sales         16444 non-null  float64\n",
      " 6   jp_sales         16444 non-null  float64\n",
      " 7   other_sales      16444 non-null  float64\n",
      " 8   critic_score     16444 non-null  float64\n",
      " 9   user_score       16444 non-null  float64\n",
      " 10  rating           16444 non-null  object \n",
      "dtypes: float64(6), int64(1), object(4)\n",
      "memory usage: 1.5+ MB\n"
     ]
    }
   ],
   "source": [
    "rating_mapper = games.groupby('genre')['rating'].agg(pd.Series.mode).to_dict()\n",
    "#grouping the games dataframe by the genre and takes the most popular rating for each genre \n",
    "\n",
    "def rating_fill(row):#creates a function called rating_fill that takes the row as argument\n",
    "    \n",
    "    if pd.isna(row['rating']): #if the rating value is missing\n",
    "        return rating_mapper.get(row['genre'])\n",
    "        #returns the most popular rating for its genre from the rating_mapper dictionary\n",
    "        \n",
    "    return row['rating']#returns the rating if the value already exists\n",
    "\n",
    "games['rating'] = games.apply(rating_fill, axis=1)\n",
    "#applies the rating_fill function to games table and stores the results in the rating column\n",
    "\n",
    "games.info()"
   ]
  },
  {
   "cell_type": "markdown",
   "metadata": {},
   "source": [
    "<a id=\"10\"></a> \n",
    "## The 'total_sales' column"
   ]
  },
  {
   "cell_type": "code",
   "execution_count": 24,
   "metadata": {},
   "outputs": [
    {
     "name": "stdout",
     "output_type": "stream",
     "text": [
      "<class 'pandas.core.frame.DataFrame'>\n",
      "Int64Index: 16444 entries, 0 to 16714\n",
      "Data columns (total 12 columns):\n",
      " #   Column           Non-Null Count  Dtype  \n",
      "---  ------           --------------  -----  \n",
      " 0   name             16444 non-null  object \n",
      " 1   platform         16444 non-null  object \n",
      " 2   year_of_release  16444 non-null  int64  \n",
      " 3   genre            16444 non-null  object \n",
      " 4   na_sales         16444 non-null  float64\n",
      " 5   eu_sales         16444 non-null  float64\n",
      " 6   jp_sales         16444 non-null  float64\n",
      " 7   other_sales      16444 non-null  float64\n",
      " 8   critic_score     16444 non-null  float64\n",
      " 9   user_score       16444 non-null  float64\n",
      " 10  rating           16444 non-null  object \n",
      " 11  total_sales      16444 non-null  float64\n",
      "dtypes: float64(7), int64(1), object(4)\n",
      "memory usage: 1.6+ MB\n"
     ]
    }
   ],
   "source": [
    "games['total_sales'] = games['na_sales'] + games['eu_sales'] + games['jp_sales'] + games['other_sales']\n",
    "\n",
    "games.info()"
   ]
  },
  {
   "cell_type": "code",
   "execution_count": 25,
   "metadata": {},
   "outputs": [
    {
     "data": {
      "text/plain": [
       "0        165.08\n",
       "1         80.48\n",
       "2         71.04\n",
       "3         65.54\n",
       "4         62.76\n",
       "          ...  \n",
       "16710      0.02\n",
       "16711      0.02\n",
       "16712      0.02\n",
       "16713      0.02\n",
       "16714      0.02\n",
       "Length: 16444, dtype: float64"
      ]
     },
     "execution_count": 25,
     "metadata": {},
     "output_type": "execute_result"
    }
   ],
   "source": [
    "games[[\"na_sales\", \"eu_sales\", \"jp_sales\", \"other_sales\"]].sum(axis=1) # to add multiple columns\n",
    "\n",
    "games[[col for col in games.columns if \"sales\" in col]].sum(axis=1)"
   ]
  },
  {
   "cell_type": "code",
   "execution_count": 26,
   "metadata": {},
   "outputs": [
    {
     "data": {
      "text/plain": [
       "<AxesSubplot:>"
      ]
     },
     "execution_count": 26,
     "metadata": {},
     "output_type": "execute_result"
    },
    {
     "data": {
      "image/png": "[encoded data removed]",
      "text/plain": [
       "<Figure size 1800x720 with 2 Axes>"
      ]
     },
     "metadata": {
      "needs_background": "light"
     },
     "output_type": "display_data"
    }
   ],
   "source": [
    "msno.matrix(games) #visualize missing values"
   ]
  },
  {
   "cell_type": "markdown",
   "metadata": {},
   "source": [
    "CONCLUSION\n",
    "\n",
    "- We already finished fill up the missing values for each column with reasonable reasons.\n",
    "- Missing values in the genre, critic_score, user_score, and rating columns had been filled. As for year_of_release, the missing values were removed. A new column of total_sales had been added"
   ]
  },
  {
   "cell_type": "markdown",
   "metadata": {},
   "source": [
    "<a id=\"11\"></a> \n",
    "# Stage 3: Exploratory Data Analysis"
   ]
  },
  {
   "cell_type": "markdown",
   "metadata": {},
   "source": [
    "This section will be divided to several parts. This is the point for this section:\n",
    "\n",
    "- Game Released Throughout The Years\n",
    "- Platform sales duration\n",
    "- Comparing sales of games across potentially profitable platforms\n",
    "- The effect of user and professional reviews on sales\n",
    "- The most profitable genres of 'Games'\n",
    "- User profile for each region"
   ]
  },
  {
   "cell_type": "markdown",
   "metadata": {},
   "source": [
    "<a id=\"12\"></a> \n",
    "## Games Released Throughout The Years"
   ]
  },
  {
   "cell_type": "markdown",
   "metadata": {},
   "source": [
    "- The number of games released for each year was count. Then, it will be visualize by bar chart"
   ]
  },
  {
   "cell_type": "code",
   "execution_count": 27,
   "metadata": {},
   "outputs": [
    {
     "data": {
      "text/plain": [
       "year_of_release\n",
       "1980       9\n",
       "1981      46\n",
       "1982      36\n",
       "1983      17\n",
       "1984      14\n",
       "1985      14\n",
       "1986      21\n",
       "1987      16\n",
       "1988      15\n",
       "1989      17\n",
       "1990      16\n",
       "1991      41\n",
       "1992      43\n",
       "1993      60\n",
       "1994     121\n",
       "1995     219\n",
       "1996     263\n",
       "1997     289\n",
       "1998     379\n",
       "1999     338\n",
       "2000     350\n",
       "2001     482\n",
       "2002     829\n",
       "2003     775\n",
       "2004     762\n",
       "2005     939\n",
       "2006    1006\n",
       "2007    1197\n",
       "2008    1427\n",
       "2009    1426\n",
       "2010    1255\n",
       "2011    1136\n",
       "2012     653\n",
       "2013     544\n",
       "2014     581\n",
       "2015     606\n",
       "2016     502\n",
       "Name: name, dtype: int64"
      ]
     },
     "execution_count": 27,
     "metadata": {},
     "output_type": "execute_result"
    }
   ],
   "source": [
    "year_count=games.groupby('year_of_release')['name'].count()\n",
    "#makes a table called year count which groups the games table by year_of_release and gets a count of the\n",
    "#game names for each year\n",
    "\n",
    "year_count"
   ]
  },
  {
   "cell_type": "code",
   "execution_count": 28,
   "metadata": {},
   "outputs": [
    {
     "data": {
      "image/png": "[encoded data removed]",
      "text/plain": [
       "<Figure size 1728x720 with 1 Axes>"
      ]
     },
     "metadata": {
      "needs_background": "light"
     },
     "output_type": "display_data"
    }
   ],
   "source": [
    "year_count.plot.bar(rot=0, figsize=(24, 10))\n",
    "plt.title('Number of game releases per year')\n",
    "plt.xlabel('Year of game release')\n",
    "plt.ylabel('Number of game released')\n",
    "plt.show()\n",
    "\n",
    "#plots a bar chart for year_count table that shows the years and how many games each year had"
   ]
  },
  {
   "cell_type": "markdown",
   "metadata": {},
   "source": [
    "- Between 1980 and 1994, the number of video game releases per year remained below 200. However, starting from 1995, the popularity of video games began to rise. By 2001, there were approximately 500 releases, and in 2002, this number sharply increased to over 800. The years 2007 to 2011 marked the peak in releases, with 2008 recording the highest number at 1427 releases. It's worth noting that not all periods are equally significant in terms of release volume."
   ]
  },
  {
   "cell_type": "markdown",
   "metadata": {},
   "source": [
    "<a id=\"13\"></a> \n",
    "## Different total sales from platform to platform."
   ]
  },
  {
   "cell_type": "markdown",
   "metadata": {},
   "source": [
    "- The all total sales for all platform will be ranked."
   ]
  },
  {
   "cell_type": "code",
   "execution_count": 29,
   "metadata": {},
   "outputs": [
    {
     "data": {
      "text/plain": [
       "platform\n",
       "PS2     1233.56\n",
       "X360     961.24\n",
       "PS3      931.34\n",
       "Wii      891.18\n",
       "DS       802.78\n",
       "Name: total_sales, dtype: float64"
      ]
     },
     "execution_count": 29,
     "metadata": {},
     "output_type": "execute_result"
    }
   ],
   "source": [
    "platform_rank = games.groupby('platform')['total_sales'].sum().sort_values(ascending=False)\n",
    "#groups the games table by platform and finds the sum of the total sales for each platform in descending order\n",
    "\n",
    "top_platforms=platform_rank.head()\n",
    "#takes the first 5 rows of the platform ranking table\n",
    "\n",
    "top_platforms"
   ]
  },
  {
   "cell_type": "markdown",
   "metadata": {},
   "source": [
    "- PS2 is the top-selling platform with sales exceeding 1 billion, followed by Xbox 360, PS3, Wii, and Nintendo DS."
   ]
  },
  {
   "cell_type": "code",
   "execution_count": 30,
   "metadata": {},
   "outputs": [
    {
     "data": {
      "image/png": "[encoded data removed]",
      "text/plain": [
       "<Figure size 1152x360 with 1 Axes>"
      ]
     },
     "metadata": {
      "needs_background": "light"
     },
     "output_type": "display_data"
    },
    {
     "name": "stdout",
     "output_type": "stream",
     "text": [
      "\n"
     ]
    },
    {
     "data": {
      "image/png": "[encoded data removed]",
      "text/plain": [
       "<Figure size 1152x360 with 1 Axes>"
      ]
     },
     "metadata": {
      "needs_background": "light"
     },
     "output_type": "display_data"
    },
    {
     "name": "stdout",
     "output_type": "stream",
     "text": [
      "\n"
     ]
    },
    {
     "data": {
      "image/png": "[encoded data removed]",
      "text/plain": [
       "<Figure size 1152x360 with 1 Axes>"
      ]
     },
     "metadata": {
      "needs_background": "light"
     },
     "output_type": "display_data"
    },
    {
     "name": "stdout",
     "output_type": "stream",
     "text": [
      "\n"
     ]
    },
    {
     "data": {
      "image/png": "[encoded data removed]",
      "text/plain": [
       "<Figure size 1152x360 with 1 Axes>"
      ]
     },
     "metadata": {
      "needs_background": "light"
     },
     "output_type": "display_data"
    },
    {
     "name": "stdout",
     "output_type": "stream",
     "text": [
      "\n"
     ]
    },
    {
     "data": {
      "image/png": "[encoded data removed]",
      "text/plain": [
       "<Figure size 1152x360 with 1 Axes>"
      ]
     },
     "metadata": {
      "needs_background": "light"
     },
     "output_type": "display_data"
    },
    {
     "name": "stdout",
     "output_type": "stream",
     "text": [
      "\n"
     ]
    }
   ],
   "source": [
    "for platform in top_platforms.index: # loops through the top 5 platforms\n",
    "    \n",
    "    platform_slice=games.query('platform == @platform')\n",
    "    # makes a slice of rows from the games table where the value of the platform equals the top 5 platform\n",
    "    \n",
    "    platform_slice.groupby('year_of_release')['total_sales'].sum().plot.bar(figsize=(16, 5))\n",
    "    # groups the slice by 'year of release' and obtained the sum of the total sales for each year and plots bar chart\n",
    "    \n",
    "    plt.title('{} sales'.format(platform)) #titles the chart with the format of ''<platform> sales'\n",
    "    plt.xlabel('Year') # labeling the x-axis as 'year'\n",
    "    plt.ylabel('Sales') # labeling the y-axis as 'sales'\n",
    "    plt.show() # display the chart\n",
    "    print('')# prints an empty line"
   ]
  },
  {
   "cell_type": "markdown",
   "metadata": {},
   "source": [
    "From the bar graph, it can be deduced that:\n",
    "\n",
    "- PS2 was introduced in 2000 and experienced a surge in sales, reaching its peak in popularity in 2004. Subsequently, sales declined, with zero sales recorded after 2010.\n",
    "\n",
    "- PS3 was launched in 2006, coinciding with the decline of PS2's sales.\n",
    "\n",
    "- Wii entered the market in 2006 and reached its peak in 2009, followed by a decline, with zero sales reported after 2015.\n",
    "\n",
    "- DS was introduced in 2004 and enjoyed significant popularity in 2007 and 2008. However, sales declined afterward, with zero sales recorded after 2013.\n",
    "\n",
    "- On average, it takes 6 to 7 years for new consoles to appear on the market and 9 to 10 years for a platform to completely phase out.\n",
    "\n",
    "- Our relevant data begins from the year 2006 to mirror a platform's lifespan timeline."
   ]
  },
  {
   "cell_type": "markdown",
   "metadata": {},
   "source": [
    "<a id=\"31\"></a> \n",
    "## Distribution of total sales for platform which has the greatest total sales "
   ]
  },
  {
   "cell_type": "markdown",
   "metadata": {},
   "source": [
    "- First of all, PS2 used to be had highest total sales, means that it was popular. PS2 will be used and check if it still have sales in the most recent year or not."
   ]
  },
  {
   "cell_type": "code",
   "execution_count": 31,
   "metadata": {},
   "outputs": [
    {
     "data": {
      "text/plain": [
       "'PS2'"
      ]
     },
     "execution_count": 31,
     "metadata": {},
     "output_type": "execute_result"
    }
   ],
   "source": [
    "top_platform_game = platform_rank.idxmax() # Identify the platform with the greatest total sales\n",
    "top_platform_game"
   ]
  },
  {
   "cell_type": "code",
   "execution_count": 32,
   "metadata": {},
   "outputs": [],
   "source": [
    "# Filter data for the top platform\n",
    "top_platform_data = games[games['platform'] == top_platform_game]"
   ]
  },
  {
   "cell_type": "code",
   "execution_count": 33,
   "metadata": {},
   "outputs": [],
   "source": [
    "# Check if the platform has zero sales in the most recent year\n",
    "most_recent_year = games['year_of_release'].max()\n",
    "recent_sales = top_platform_data[top_platform_data['year_of_release'] == most_recent_year]['total_sales'].sum()"
   ]
  },
  {
   "cell_type": "code",
   "execution_count": 34,
   "metadata": {},
   "outputs": [
    {
     "name": "stdout",
     "output_type": "stream",
     "text": [
      "The platform PS2 used to be popular but now has zero sales in the most recent year.\n"
     ]
    }
   ],
   "source": [
    "if recent_sales == 0:\n",
    "    print(f\"The platform {top_platform_game} used to be popular but now has zero sales in the most recent year.\")\n",
    "else:\n",
    "    print(f\"The platform {top_platform_game} still has sales in the most recent year.\")"
   ]
  },
  {
   "cell_type": "markdown",
   "metadata": {},
   "source": [
    "<a id=\"32\"></a> \n",
    "## Analyzing Platform Lifecycles: How Quickly New Platforms Emerge and Old Ones Fade"
   ]
  },
  {
   "cell_type": "markdown",
   "metadata": {},
   "source": [
    "For this question, we need to define what makes a game platform \"old\" and \"new\". Let's assume we consider platforms released before 2000 as \"retro consoles/games\" and platforms released after 2000 as \"new\". Titles with an original release date over 15 years ago qualify as retro."
   ]
  },
  {
   "cell_type": "code",
   "execution_count": 38,
   "metadata": {},
   "outputs": [],
   "source": [
    "# Define the reference year to separate old and new platforms\n",
    "reference_year = 2000"
   ]
  },
  {
   "cell_type": "code",
   "execution_count": 39,
   "metadata": {},
   "outputs": [],
   "source": [
    "# Get the maximum and minimum years of each platfrom\n",
    "platforms_duration_year = games.groupby(\"platform\").agg(\n",
    "    founding_year=(\"year_of_release\", \"min\"), \n",
    "    exit_year=(\"year_of_release\", \"max\")\n",
    ")"
   ]
  },
  {
   "cell_type": "code",
   "execution_count": 41,
   "metadata": {},
   "outputs": [],
   "source": [
    "# Use reference year to extract old and new platforms\n",
    "old_platforms = platforms_duration_year.query(\"founding_year < 2000\")\n",
    "new_platforms = platforms_duration_year.query(\"founding_year >= 2000\")\n",
    "\n",
    "# Calculate the amount of time it takes for old platforms to fading out or stop\n",
    "average_years_old_platforms=(old_platforms[\"exit_year\"] - old_platforms[\"founding_year\"]).mean()\n",
    "\n",
    "# Calculate the amount of time it takes new platforms to spring up\n",
    "average_years_new_platforms=(new_platforms[\"founding_year\"] - reference_year).mean()"
   ]
  },
  {
   "cell_type": "code",
   "execution_count": 42,
   "metadata": {},
   "outputs": [
    {
     "name": "stdout",
     "output_type": "stream",
     "text": [
      "On average, it takes 7.89 years for old platforms to fade and 6.31 years for new platforms to appear.\n"
     ]
    }
   ],
   "source": [
    "print(f\"On average, it takes {average_years_old_platforms:.2f} years for old platforms to fade and {average_years_new_platforms:.2f} years for new platforms to appear.\")\n"
   ]
  },
  {
   "cell_type": "markdown",
   "metadata": {},
   "source": [
    "<a id=\"14\"></a> \n",
    "## Analyzing the trending of video game sales for 2017"
   ]
  },
  {
   "cell_type": "markdown",
   "metadata": {},
   "source": [
    "- To predict the trending video game sales for 2017, it would be advisable to analyze 4 years worth before 2016"
   ]
  },
  {
   "cell_type": "code",
   "execution_count": 44,
   "metadata": {},
   "outputs": [
    {
     "data": {
      "text/plain": [
       "platform\n",
       "PS4     314.14\n",
       "PS3     181.43\n",
       "XOne    159.32\n",
       "3DS     143.25\n",
       "X360    136.80\n",
       "WiiU     64.63\n",
       "PC       39.43\n",
       "PSV      32.99\n",
       "Wii      13.66\n",
       "PSP       3.50\n",
       "DS        1.54\n",
       "Name: total_sales, dtype: float64"
      ]
     },
     "execution_count": 44,
     "metadata": {},
     "output_type": "execute_result"
    }
   ],
   "source": [
    "relevant_data = games[games['year_of_release'].isin([2016, 2015, 2014,2013])]\n",
    "\n",
    "relevant_platform_rank = relevant_data.groupby('platform')['total_sales'].sum().sort_values(ascending=False)\n",
    "# groups the relevant_data by platform, gets the sum of total_sales for each platform and sorts them in descending order\n",
    "\n",
    "relevant_platform_rank"
   ]
  },
  {
   "cell_type": "markdown",
   "metadata": {},
   "source": [
    "- Since 2013, PS4 has been the top-selling platform, followed by PS3, XOne, 3DS, X360, and Wiiu making up the top 5. To assess growth or decline, bar charts for each platform need to be created."
   ]
  },
  {
   "cell_type": "code",
   "execution_count": 45,
   "metadata": {},
   "outputs": [
    {
     "data": {
      "image/png": "[encoded data removed]",
      "text/plain": [
       "<Figure size 1152x360 with 1 Axes>"
      ]
     },
     "metadata": {
      "needs_background": "light"
     },
     "output_type": "display_data"
    },
    {
     "name": "stdout",
     "output_type": "stream",
     "text": [
      "\n"
     ]
    },
    {
     "data": {
      "image/png": "[encoded data removed]",
      "text/plain": [
       "<Figure size 1152x360 with 1 Axes>"
      ]
     },
     "metadata": {
      "needs_background": "light"
     },
     "output_type": "display_data"
    },
    {
     "name": "stdout",
     "output_type": "stream",
     "text": [
      "\n"
     ]
    },
    {
     "data": {
      "image/png": "[encoded data removed]",
      "text/plain": [
       "<Figure size 1152x360 with 1 Axes>"
      ]
     },
     "metadata": {
      "needs_background": "light"
     },
     "output_type": "display_data"
    },
    {
     "name": "stdout",
     "output_type": "stream",
     "text": [
      "\n"
     ]
    },
    {
     "data": {
      "image/png": "[encoded data removed]",
      "text/plain": [
       "<Figure size 1152x360 with 1 Axes>"
      ]
     },
     "metadata": {
      "needs_background": "light"
     },
     "output_type": "display_data"
    },
    {
     "name": "stdout",
     "output_type": "stream",
     "text": [
      "\n"
     ]
    },
    {
     "data": {
      "image/png": "[encoded data removed]",
      "text/plain": [
       "<Figure size 1152x360 with 1 Axes>"
      ]
     },
     "metadata": {
      "needs_background": "light"
     },
     "output_type": "display_data"
    },
    {
     "name": "stdout",
     "output_type": "stream",
     "text": [
      "\n"
     ]
    },
    {
     "data": {
      "image/png": "[encoded data removed]",
      "text/plain": [
       "<Figure size 1152x360 with 1 Axes>"
      ]
     },
     "metadata": {
      "needs_background": "light"
     },
     "output_type": "display_data"
    },
    {
     "name": "stdout",
     "output_type": "stream",
     "text": [
      "\n"
     ]
    },
    {
     "data": {
      "image/png": "[encoded data removed]",
      "text/plain": [
       "<Figure size 1152x360 with 1 Axes>"
      ]
     },
     "metadata": {
      "needs_background": "light"
     },
     "output_type": "display_data"
    },
    {
     "name": "stdout",
     "output_type": "stream",
     "text": [
      "\n"
     ]
    },
    {
     "data": {
      "image/png": "[encoded data removed]",
      "text/plain": [
       "<Figure size 1152x360 with 1 Axes>"
      ]
     },
     "metadata": {
      "needs_background": "light"
     },
     "output_type": "display_data"
    },
    {
     "name": "stdout",
     "output_type": "stream",
     "text": [
      "\n"
     ]
    },
    {
     "data": {
      "image/png": "[encoded data removed]",
      "text/plain": [
       "<Figure size 1152x360 with 1 Axes>"
      ]
     },
     "metadata": {
      "needs_background": "light"
     },
     "output_type": "display_data"
    },
    {
     "name": "stdout",
     "output_type": "stream",
     "text": [
      "\n"
     ]
    },
    {
     "data": {
      "image/png": "[encoded data removed]",
      "text/plain": [
       "<Figure size 1152x360 with 1 Axes>"
      ]
     },
     "metadata": {
      "needs_background": "light"
     },
     "output_type": "display_data"
    },
    {
     "name": "stdout",
     "output_type": "stream",
     "text": [
      "\n"
     ]
    },
    {
     "data": {
      "image/png": "[encoded data removed]",
      "text/plain": [
       "<Figure size 1152x360 with 1 Axes>"
      ]
     },
     "metadata": {
      "needs_background": "light"
     },
     "output_type": "display_data"
    },
    {
     "name": "stdout",
     "output_type": "stream",
     "text": [
      "\n"
     ]
    }
   ],
   "source": [
    "for platform in relevant_platform_rank.index: #loops through the platforms in relev_platform_rank\n",
    "    \n",
    "    p_slice = relevant_data.query('platform == @platform')\n",
    "    # Create a slice of rows from relev_data where the platform matches the current platform value\n",
    "    \n",
    "    sales_by_year = p_slice.groupby('year_of_release')['total_sales'].sum()\n",
    "    # Group the slice by year of release and fetch the sum of total sales for each year\n",
    "    \n",
    "    # Plot a trend plot\n",
    "    sales_by_year.plot(figsize=(16, 5))\n",
    "    \n",
    "    # Title the chart\n",
    "    plt.title('{} sales trend'.format(platform))\n",
    "    \n",
    "    # Label the x-axis\n",
    "    plt.xlabel('Year')\n",
    "    \n",
    "    # Label the y-axis\n",
    "    plt.ylabel('Sales')\n",
    "    \n",
    "    # Show the chart\n",
    "    plt.show()\n",
    "    \n",
    "    # Print an empty line\n",
    "    print('')"
   ]
  },
  {
   "cell_type": "markdown",
   "metadata": {},
   "source": [
    "- Shrinking platforms include Xbox 360, PS3, Wii, DS, PS2, 3DS, PSP, PC, Wii U, and PSV.\n",
    "- Growing platforms are PS4 and Xbox One.\n",
    "- The smaller bins for 2016 may be due to the data collection ending before the year concluded.\n",
    "- PS4 and Xbox One are still in the early stages of their lifespan, suggesting potential for increased profits in the next 2-3 years.\n",
    "- Other platforms (GC,XB,GBA,DC) were already declining before 2016."
   ]
  },
  {
   "cell_type": "code",
   "execution_count": 46,
   "metadata": {},
   "outputs": [
    {
     "data": {
      "text/plain": [
       "{'whiskers': [<matplotlib.lines.Line2D at 0x7fa2c704dbe0>,\n",
       "  <matplotlib.lines.Line2D at 0x7fa2c704df40>,\n",
       "  <matplotlib.lines.Line2D at 0x7fa2c702b0a0>,\n",
       "  <matplotlib.lines.Line2D at 0x7fa2c702b400>],\n",
       " 'caps': [<matplotlib.lines.Line2D at 0x7fa2c70382e0>,\n",
       "  <matplotlib.lines.Line2D at 0x7fa2c7038640>,\n",
       "  <matplotlib.lines.Line2D at 0x7fa2c702b760>,\n",
       "  <matplotlib.lines.Line2D at 0x7fa2c702bac0>],\n",
       " 'boxes': [<matplotlib.lines.Line2D at 0x7fa2c704d880>,\n",
       "  <matplotlib.lines.Line2D at 0x7fa2c7038d00>],\n",
       " 'medians': [<matplotlib.lines.Line2D at 0x7fa2c70389a0>,\n",
       "  <matplotlib.lines.Line2D at 0x7fa2c702be20>],\n",
       " 'fliers': [],\n",
       " 'means': []}"
      ]
     },
     "execution_count": 46,
     "metadata": {},
     "output_type": "execute_result"
    },
    {
     "data": {
      "image/png": "[encoded data removed]",
      "text/plain": [
       "<Figure size 432x288 with 1 Axes>"
      ]
     },
     "metadata": {
      "needs_background": "light"
     },
     "output_type": "display_data"
    }
   ],
   "source": [
    "ps4_data = games.query('platform == \"PS4\"')\n",
    "xone_data = games.query('platform == \"XOne\"')\n",
    "\n",
    "plt.boxplot([ps4_data['total_sales'], xone_data['total_sales']], showfliers=False)"
   ]
  },
  {
   "cell_type": "markdown",
   "metadata": {},
   "source": [
    "In this comparison of data between the PS4 and Xbox One for the year 2016, we observe a similarity in the distribution of total sales for each game. The PS4 however has significantly more outliers, some with much higher total sales than the outliers from the Xbox One console. The whiskers for PS4 extend higher compared to Xbox One. Despite these differences, the interquartile ranges (IQRs) and medians for both platforms are approximately equal. Based on these distributions, releasing a game on the PS4 doesn't appear to be a disadvantageous choice."
   ]
  },
  {
   "cell_type": "markdown",
   "metadata": {},
   "source": [
    "<a id=\"15\"></a> \n",
    "## Comparing sales of games across potentially profitable platforms"
   ]
  },
  {
   "cell_type": "markdown",
   "metadata": {},
   "source": [
    "- The platforms with potential for profitability are those that demonstrated strong sales performance in 2016 and are likely to continue generating sales in 2017. These platforms include Xbox One, PS4, PC, 3DS, Wii U, and PSV.\n",
    "- A slice will be created from relevant_data table containing rows where the platform is PS4 or Xbox One or others, and a boxplot of sales by platform will be made."
   ]
  },
  {
   "cell_type": "code",
   "execution_count": 47,
   "metadata": {},
   "outputs": [
    {
     "data": {
      "image/png": "[encoded data removed]",
      "text/plain": [
       "<Figure size 720x720 with 1 Axes>"
      ]
     },
     "metadata": {
      "needs_background": "light"
     },
     "output_type": "display_data"
    }
   ],
   "source": [
    "ptprof_platforms=relevant_data.query('platform == \"XOne\" | platform == \"PS4\" | platform == \"3DS\" | platform == \"PC\" | platform == \"PSV\"')\n",
    "# makes a slice from relevant_data with rows where the platform is either of the potentially profitable platforms that being mentioned\n",
    "\n",
    "ptprof_platforms.boxplot(column='total_sales', by='platform', figsize=(10, 10))\n",
    "#creates a boxplot from the slice of sales by platform\n",
    "\n",
    "plt.show() "
   ]
  },
  {
   "cell_type": "markdown",
   "metadata": {},
   "source": [
    "The median values and typical sales intervals for PS4 and Xbox One show relatively little variation. In contrast, the medians for the other platforms are notably lower, with PSV's median being the closest to zero. However, PS4 stands out with a significantly larger number of outliers compared to Xbox One, with the highest outlier reaching approximately $14.5 million in sales."
   ]
  },
  {
   "cell_type": "markdown",
   "metadata": {},
   "source": [
    "<a id=\"16\"></a> \n",
    "## The effect of user and professional reviews on sales"
   ]
  },
  {
   "cell_type": "markdown",
   "metadata": {},
   "source": [
    "- To determine the effect of user and professional reviews, we will use 3 types of platform which are PS4, XOne, 3DS as reference. Scatterplot will be used to identify the relationship between critic_scores/user_score and total_sales for different platform. \n",
    "- After that, correlation coefficient will be conducted.The coefficient ranges from 0 to 1 for positive correlation and from -1 to 0 for negative correlation. A correlation greater than 0.5 suggests a strong positive correlation, while a correlation lower than -0.5 indicates a strong negative correlation. Correlations between -0.5 and 0.5 suggest little to no correlation or a correlation that cannot be linearly expressed."
   ]
  },
  {
   "cell_type": "markdown",
   "metadata": {},
   "source": [
    "<a id=\"17\"></a> \n",
    "### PS4 Platform"
   ]
  },
  {
   "cell_type": "code",
   "execution_count": 48,
   "metadata": {},
   "outputs": [
    {
     "data": {
      "image/png": "[encoded data removed]",
      "text/plain": [
       "<Figure size 432x288 with 1 Axes>"
      ]
     },
     "metadata": {
      "needs_background": "light"
     },
     "output_type": "display_data"
    },
    {
     "data": {
      "image/png": "[encoded data removed]",
      "text/plain": [
       "<Figure size 432x288 with 1 Axes>"
      ]
     },
     "metadata": {
      "needs_background": "light"
     },
     "output_type": "display_data"
    }
   ],
   "source": [
    "ps4_data = ptprof_platforms.query('platform == \"PS4\"')\n",
    "# makes a slice of rows from ptprof_platforms where the platform is PS4\n",
    "\n",
    "cols=['critic_score', 'user_score'] #makes an array with entries: 'critic_score' and 'user_score'\n",
    "\n",
    "for column in cols: # loops through the entries in the array\n",
    "    \n",
    "    ps4_data.plot(x=column, y='total_sales', kind='scatter')\n",
    "    plt.title('PS4 {}s vs total sales'.format(column))\n",
    "    #plots a scatterplot for the score against total sales\n",
    "    \n",
    "    plt.show()"
   ]
  },
  {
   "cell_type": "code",
   "execution_count": 49,
   "metadata": {},
   "outputs": [
    {
     "name": "stdout",
     "output_type": "stream",
     "text": [
      "0.351474359259249\n",
      "-0.04545391610787535\n"
     ]
    }
   ],
   "source": [
    "print(ps4_data['critic_score'].corr(ps4_data['total_sales']))\n",
    "# prints the correlation coefficient for critic_score vs total_sales\n",
    "\n",
    "print(ps4_data['user_score'].corr(ps4_data['total_sales']))\n",
    "# prints the correlation for coefficient user_score vs total_sales"
   ]
  },
  {
   "cell_type": "markdown",
   "metadata": {},
   "source": [
    "- The findings indicate that there is little to no linear correlation between user_score and critic_score with sales. This suggests that high quality does not necessarily ensure commercial success for PS4 games."
   ]
  },
  {
   "cell_type": "markdown",
   "metadata": {},
   "source": [
    "<a id=\"18\"></a> \n",
    "### XOne Platform"
   ]
  },
  {
   "cell_type": "code",
   "execution_count": 50,
   "metadata": {},
   "outputs": [
    {
     "data": {
      "image/png": "[encoded data removed]",
      "text/plain": [
       "<Figure size 432x288 with 1 Axes>"
      ]
     },
     "metadata": {
      "needs_background": "light"
     },
     "output_type": "display_data"
    },
    {
     "data": {
      "image/png": "[encoded data removed]",
      "text/plain": [
       "<Figure size 432x288 with 1 Axes>"
      ]
     },
     "metadata": {
      "needs_background": "light"
     },
     "output_type": "display_data"
    }
   ],
   "source": [
    "xone_data = ptprof_platforms.query('platform == \"XOne\"')\n",
    "# makes a slice of rows from ptprof_platforms where the platform is XOne\n",
    "\n",
    "cols=['critic_score', 'user_score'] #makes an array with entries: 'critic_score' and 'user_score'\n",
    "\n",
    "for column in cols: # loops through the entries in the array\n",
    "    \n",
    "    xone_data.plot(x=column, y='total_sales', kind='scatter')\n",
    "    plt.title('XOne {}s vs total sales'.format(column))\n",
    "    #plots a scatterplot for the score against total sales\n",
    "    \n",
    "    plt.show()"
   ]
  },
  {
   "cell_type": "code",
   "execution_count": 51,
   "metadata": {},
   "outputs": [
    {
     "name": "stdout",
     "output_type": "stream",
     "text": [
      "0.37861650130857405\n",
      "-0.08963448946492547\n"
     ]
    }
   ],
   "source": [
    "print(xone_data['critic_score'].corr(xone_data['total_sales']))\n",
    "# prints the correlation coefficient for critic_score vs total_sales\n",
    "\n",
    "print(xone_data['user_score'].corr(xone_data['total_sales']))\n",
    "# prints the correlation for coefficient user_score vs total_sales"
   ]
  },
  {
   "cell_type": "markdown",
   "metadata": {},
   "source": [
    "- Still the same conclusion as with PS4 platform. There  is little to no linear correlation between user_score and critic_score with sales."
   ]
  },
  {
   "cell_type": "markdown",
   "metadata": {},
   "source": [
    "<a id=\"19\"></a> \n",
    "### 3DS Platform"
   ]
  },
  {
   "cell_type": "code",
   "execution_count": 52,
   "metadata": {},
   "outputs": [
    {
     "data": {
      "image/png": "[encoded data removed]",
      "text/plain": [
       "<Figure size 432x288 with 1 Axes>"
      ]
     },
     "metadata": {
      "needs_background": "light"
     },
     "output_type": "display_data"
    },
    {
     "data": {
      "image/png": "[encoded data removed]",
      "text/plain": [
       "<Figure size 432x288 with 1 Axes>"
      ]
     },
     "metadata": {
      "needs_background": "light"
     },
     "output_type": "display_data"
    }
   ],
   "source": [
    "ds_data = ptprof_platforms.query('platform == \"3DS\"')\n",
    "# makes a slice of rows from ptprof_platforms where the platform is 3DS\n",
    "\n",
    "cols=['critic_score', 'user_score'] #makes an array with entries: 'critic_score' and 'user_score'\n",
    "\n",
    "for column in cols: # loops through the entries in the array\n",
    "    \n",
    "    ds_data.plot(x=column, y='total_sales', kind='scatter')\n",
    "    plt.title('3DS {}s vs total sales'.format(column))\n",
    "    #plots a scatterplot for the score against total sales\n",
    "    \n",
    "    plt.show()"
   ]
  },
  {
   "cell_type": "code",
   "execution_count": 53,
   "metadata": {},
   "outputs": [
    {
     "name": "stdout",
     "output_type": "stream",
     "text": [
      "0.17847742178975187\n",
      "0.07378240143519445\n"
     ]
    }
   ],
   "source": [
    "print(ds_data['critic_score'].corr(ds_data['total_sales']))\n",
    "# prints the correlation coefficient for critic_score vs total_sales\n",
    "\n",
    "print(ds_data['user_score'].corr(ds_data['total_sales']))\n",
    "# prints the correlation for coefficient user_score vs total_sales"
   ]
  },
  {
   "cell_type": "markdown",
   "metadata": {},
   "source": [
    "- There still no correlation with total sales. Based on observation on three platforms, we can deduced that critic score and user score does not have effect on total sales."
   ]
  },
  {
   "cell_type": "markdown",
   "metadata": {},
   "source": [
    "<a id=\"20\"></a> \n",
    "### Compare the sales of same games in different platform"
   ]
  },
  {
   "cell_type": "markdown",
   "metadata": {},
   "source": [
    "In addition, we also wanted to observe which platform mostly used by users for smae games. It is to determine which platform that could be focused on for more profitable game to be released in the future. Three most used platform which PS4,XOne, and 3DS will be used as references."
   ]
  },
  {
   "cell_type": "code",
   "execution_count": 54,
   "metadata": {},
   "outputs": [
    {
     "data": {
      "text/html": [
       "<div>\n",
       "<style scoped>\n",
       "    .dataframe tbody tr th:only-of-type {\n",
       "        vertical-align: middle;\n",
       "    }\n",
       "\n",
       "    .dataframe tbody tr th {\n",
       "        vertical-align: top;\n",
       "    }\n",
       "\n",
       "    .dataframe thead th {\n",
       "        text-align: right;\n",
       "    }\n",
       "</style>\n",
       "<table border=\"1\" class=\"dataframe\">\n",
       "  <thead>\n",
       "    <tr style=\"text-align: right;\">\n",
       "      <th></th>\n",
       "      <th>name</th>\n",
       "      <th>platform</th>\n",
       "      <th>year_of_release</th>\n",
       "      <th>genre</th>\n",
       "      <th>na_sales</th>\n",
       "      <th>eu_sales</th>\n",
       "      <th>jp_sales</th>\n",
       "      <th>other_sales</th>\n",
       "      <th>critic_score</th>\n",
       "      <th>user_score</th>\n",
       "      <th>rating</th>\n",
       "      <th>total_sales</th>\n",
       "    </tr>\n",
       "  </thead>\n",
       "  <tbody>\n",
       "    <tr>\n",
       "      <th>9197</th>\n",
       "      <td>7 Days to Die</td>\n",
       "      <td>PS4</td>\n",
       "      <td>2016</td>\n",
       "      <td>Action</td>\n",
       "      <td>0.04</td>\n",
       "      <td>0.08</td>\n",
       "      <td>0.00</td>\n",
       "      <td>0.02</td>\n",
       "      <td>45.0</td>\n",
       "      <td>5.90000</td>\n",
       "      <td>M</td>\n",
       "      <td>0.14</td>\n",
       "    </tr>\n",
       "    <tr>\n",
       "      <th>12863</th>\n",
       "      <td>7 Days to Die</td>\n",
       "      <td>XOne</td>\n",
       "      <td>2016</td>\n",
       "      <td>Action</td>\n",
       "      <td>0.03</td>\n",
       "      <td>0.02</td>\n",
       "      <td>0.00</td>\n",
       "      <td>0.00</td>\n",
       "      <td>35.0</td>\n",
       "      <td>5.20000</td>\n",
       "      <td>M</td>\n",
       "      <td>0.05</td>\n",
       "    </tr>\n",
       "    <tr>\n",
       "      <th>11293</th>\n",
       "      <td>Adventure Time: Finn &amp; Jake Investigations</td>\n",
       "      <td>3DS</td>\n",
       "      <td>2015</td>\n",
       "      <td>Action</td>\n",
       "      <td>0.03</td>\n",
       "      <td>0.05</td>\n",
       "      <td>0.00</td>\n",
       "      <td>0.01</td>\n",
       "      <td>68.0</td>\n",
       "      <td>7.12633</td>\n",
       "      <td>T</td>\n",
       "      <td>0.09</td>\n",
       "    </tr>\n",
       "    <tr>\n",
       "      <th>10893</th>\n",
       "      <td>Adventure Time: Finn &amp; Jake Investigations</td>\n",
       "      <td>PS4</td>\n",
       "      <td>2015</td>\n",
       "      <td>Action</td>\n",
       "      <td>0.03</td>\n",
       "      <td>0.05</td>\n",
       "      <td>0.00</td>\n",
       "      <td>0.02</td>\n",
       "      <td>68.0</td>\n",
       "      <td>7.12633</td>\n",
       "      <td>T</td>\n",
       "      <td>0.10</td>\n",
       "    </tr>\n",
       "    <tr>\n",
       "      <th>12920</th>\n",
       "      <td>Adventure Time: Finn &amp; Jake Investigations</td>\n",
       "      <td>XOne</td>\n",
       "      <td>2015</td>\n",
       "      <td>Action</td>\n",
       "      <td>0.03</td>\n",
       "      <td>0.02</td>\n",
       "      <td>0.00</td>\n",
       "      <td>0.00</td>\n",
       "      <td>68.0</td>\n",
       "      <td>7.12633</td>\n",
       "      <td>T</td>\n",
       "      <td>0.05</td>\n",
       "    </tr>\n",
       "    <tr>\n",
       "      <th>14940</th>\n",
       "      <td>Agatha Christie's The ABC Murders</td>\n",
       "      <td>PS4</td>\n",
       "      <td>2016</td>\n",
       "      <td>Adventure</td>\n",
       "      <td>0.01</td>\n",
       "      <td>0.01</td>\n",
       "      <td>0.00</td>\n",
       "      <td>0.00</td>\n",
       "      <td>67.0</td>\n",
       "      <td>6.20000</td>\n",
       "      <td>T</td>\n",
       "      <td>0.02</td>\n",
       "    </tr>\n",
       "    <tr>\n",
       "      <th>16322</th>\n",
       "      <td>Agatha Christie's The ABC Murders</td>\n",
       "      <td>XOne</td>\n",
       "      <td>2016</td>\n",
       "      <td>Adventure</td>\n",
       "      <td>0.01</td>\n",
       "      <td>0.00</td>\n",
       "      <td>0.00</td>\n",
       "      <td>0.00</td>\n",
       "      <td>66.0</td>\n",
       "      <td>7.50000</td>\n",
       "      <td>E</td>\n",
       "      <td>0.01</td>\n",
       "    </tr>\n",
       "    <tr>\n",
       "      <th>3909</th>\n",
       "      <td>Alien: Isolation</td>\n",
       "      <td>XOne</td>\n",
       "      <td>2014</td>\n",
       "      <td>Shooter</td>\n",
       "      <td>0.22</td>\n",
       "      <td>0.24</td>\n",
       "      <td>0.00</td>\n",
       "      <td>0.04</td>\n",
       "      <td>78.0</td>\n",
       "      <td>7.80000</td>\n",
       "      <td>M</td>\n",
       "      <td>0.50</td>\n",
       "    </tr>\n",
       "    <tr>\n",
       "      <th>1812</th>\n",
       "      <td>Alien: Isolation</td>\n",
       "      <td>PS4</td>\n",
       "      <td>2014</td>\n",
       "      <td>Shooter</td>\n",
       "      <td>0.34</td>\n",
       "      <td>0.57</td>\n",
       "      <td>0.04</td>\n",
       "      <td>0.17</td>\n",
       "      <td>79.0</td>\n",
       "      <td>8.10000</td>\n",
       "      <td>M</td>\n",
       "      <td>1.12</td>\n",
       "    </tr>\n",
       "    <tr>\n",
       "      <th>7296</th>\n",
       "      <td>Angry Birds Star Wars</td>\n",
       "      <td>PS4</td>\n",
       "      <td>2013</td>\n",
       "      <td>Strategy</td>\n",
       "      <td>0.10</td>\n",
       "      <td>0.08</td>\n",
       "      <td>0.00</td>\n",
       "      <td>0.04</td>\n",
       "      <td>47.0</td>\n",
       "      <td>2.00000</td>\n",
       "      <td>E</td>\n",
       "      <td>0.22</td>\n",
       "    </tr>\n",
       "  </tbody>\n",
       "</table>\n",
       "</div>"
      ],
      "text/plain": [
       "                                             name platform  year_of_release  \\\n",
       "9197                                7 Days to Die      PS4             2016   \n",
       "12863                               7 Days to Die     XOne             2016   \n",
       "11293  Adventure Time: Finn & Jake Investigations      3DS             2015   \n",
       "10893  Adventure Time: Finn & Jake Investigations      PS4             2015   \n",
       "12920  Adventure Time: Finn & Jake Investigations     XOne             2015   \n",
       "14940           Agatha Christie's The ABC Murders      PS4             2016   \n",
       "16322           Agatha Christie's The ABC Murders     XOne             2016   \n",
       "3909                             Alien: Isolation     XOne             2014   \n",
       "1812                             Alien: Isolation      PS4             2014   \n",
       "7296                        Angry Birds Star Wars      PS4             2013   \n",
       "\n",
       "           genre  na_sales  eu_sales  jp_sales  other_sales  critic_score  \\\n",
       "9197      Action      0.04      0.08      0.00         0.02          45.0   \n",
       "12863     Action      0.03      0.02      0.00         0.00          35.0   \n",
       "11293     Action      0.03      0.05      0.00         0.01          68.0   \n",
       "10893     Action      0.03      0.05      0.00         0.02          68.0   \n",
       "12920     Action      0.03      0.02      0.00         0.00          68.0   \n",
       "14940  Adventure      0.01      0.01      0.00         0.00          67.0   \n",
       "16322  Adventure      0.01      0.00      0.00         0.00          66.0   \n",
       "3909     Shooter      0.22      0.24      0.00         0.04          78.0   \n",
       "1812     Shooter      0.34      0.57      0.04         0.17          79.0   \n",
       "7296    Strategy      0.10      0.08      0.00         0.04          47.0   \n",
       "\n",
       "       user_score rating  total_sales  \n",
       "9197      5.90000      M         0.14  \n",
       "12863     5.20000      M         0.05  \n",
       "11293     7.12633      T         0.09  \n",
       "10893     7.12633      T         0.10  \n",
       "12920     7.12633      T         0.05  \n",
       "14940     6.20000      T         0.02  \n",
       "16322     7.50000      E         0.01  \n",
       "3909      7.80000      M         0.50  \n",
       "1812      8.10000      M         1.12  \n",
       "7296      2.00000      E         0.22  "
      ]
     },
     "execution_count": 54,
     "metadata": {},
     "output_type": "execute_result"
    }
   ],
   "source": [
    "#find games on the top 3 platforms\n",
    "recent_subset = relevant_data.query('platform == \"PS4\" | platform == \"XOne\" | platform == \"3DS\"')\n",
    "\n",
    "# step 1 and 2\n",
    "name_counts = recent_subset.name.value_counts()\n",
    "\n",
    "# choose the same games used in top three platform \n",
    "same_game = recent_subset[recent_subset['name'].isin(name_counts.index[name_counts.gt(1)])]\n",
    "\n",
    "# sorting of games names according to same names\n",
    "same_game = same_game.sort_values('name')\n",
    "\n",
    "same_game.head(10)"
   ]
  },
  {
   "cell_type": "code",
   "execution_count": 55,
   "metadata": {},
   "outputs": [
    {
     "data": {
      "text/html": [
       "<div>\n",
       "<style scoped>\n",
       "    .dataframe tbody tr th:only-of-type {\n",
       "        vertical-align: middle;\n",
       "    }\n",
       "\n",
       "    .dataframe tbody tr th {\n",
       "        vertical-align: top;\n",
       "    }\n",
       "\n",
       "    .dataframe thead th {\n",
       "        text-align: right;\n",
       "    }\n",
       "</style>\n",
       "<table border=\"1\" class=\"dataframe\">\n",
       "  <thead>\n",
       "    <tr style=\"text-align: right;\">\n",
       "      <th></th>\n",
       "      <th>name</th>\n",
       "      <th>platform</th>\n",
       "      <th>year_of_release</th>\n",
       "      <th>genre</th>\n",
       "      <th>na_sales</th>\n",
       "      <th>eu_sales</th>\n",
       "      <th>jp_sales</th>\n",
       "      <th>other_sales</th>\n",
       "      <th>critic_score</th>\n",
       "      <th>user_score</th>\n",
       "      <th>rating</th>\n",
       "      <th>total_sales</th>\n",
       "    </tr>\n",
       "  </thead>\n",
       "  <tbody>\n",
       "    <tr>\n",
       "      <th>9197</th>\n",
       "      <td>7 Days to Die</td>\n",
       "      <td>PS4</td>\n",
       "      <td>2016</td>\n",
       "      <td>Action</td>\n",
       "      <td>0.04</td>\n",
       "      <td>0.08</td>\n",
       "      <td>0.00</td>\n",
       "      <td>0.02</td>\n",
       "      <td>45.0</td>\n",
       "      <td>5.90000</td>\n",
       "      <td>M</td>\n",
       "      <td>0.14</td>\n",
       "    </tr>\n",
       "    <tr>\n",
       "      <th>12863</th>\n",
       "      <td>7 Days to Die</td>\n",
       "      <td>XOne</td>\n",
       "      <td>2016</td>\n",
       "      <td>Action</td>\n",
       "      <td>0.03</td>\n",
       "      <td>0.02</td>\n",
       "      <td>0.00</td>\n",
       "      <td>0.00</td>\n",
       "      <td>35.0</td>\n",
       "      <td>5.20000</td>\n",
       "      <td>M</td>\n",
       "      <td>0.05</td>\n",
       "    </tr>\n",
       "    <tr>\n",
       "      <th>10893</th>\n",
       "      <td>Adventure Time: Finn &amp; Jake Investigations</td>\n",
       "      <td>PS4</td>\n",
       "      <td>2015</td>\n",
       "      <td>Action</td>\n",
       "      <td>0.03</td>\n",
       "      <td>0.05</td>\n",
       "      <td>0.00</td>\n",
       "      <td>0.02</td>\n",
       "      <td>68.0</td>\n",
       "      <td>7.12633</td>\n",
       "      <td>T</td>\n",
       "      <td>0.10</td>\n",
       "    </tr>\n",
       "    <tr>\n",
       "      <th>12920</th>\n",
       "      <td>Adventure Time: Finn &amp; Jake Investigations</td>\n",
       "      <td>XOne</td>\n",
       "      <td>2015</td>\n",
       "      <td>Action</td>\n",
       "      <td>0.03</td>\n",
       "      <td>0.02</td>\n",
       "      <td>0.00</td>\n",
       "      <td>0.00</td>\n",
       "      <td>68.0</td>\n",
       "      <td>7.12633</td>\n",
       "      <td>T</td>\n",
       "      <td>0.05</td>\n",
       "    </tr>\n",
       "    <tr>\n",
       "      <th>14940</th>\n",
       "      <td>Agatha Christie's The ABC Murders</td>\n",
       "      <td>PS4</td>\n",
       "      <td>2016</td>\n",
       "      <td>Adventure</td>\n",
       "      <td>0.01</td>\n",
       "      <td>0.01</td>\n",
       "      <td>0.00</td>\n",
       "      <td>0.00</td>\n",
       "      <td>67.0</td>\n",
       "      <td>6.20000</td>\n",
       "      <td>T</td>\n",
       "      <td>0.02</td>\n",
       "    </tr>\n",
       "    <tr>\n",
       "      <th>16322</th>\n",
       "      <td>Agatha Christie's The ABC Murders</td>\n",
       "      <td>XOne</td>\n",
       "      <td>2016</td>\n",
       "      <td>Adventure</td>\n",
       "      <td>0.01</td>\n",
       "      <td>0.00</td>\n",
       "      <td>0.00</td>\n",
       "      <td>0.00</td>\n",
       "      <td>66.0</td>\n",
       "      <td>7.50000</td>\n",
       "      <td>E</td>\n",
       "      <td>0.01</td>\n",
       "    </tr>\n",
       "    <tr>\n",
       "      <th>3909</th>\n",
       "      <td>Alien: Isolation</td>\n",
       "      <td>XOne</td>\n",
       "      <td>2014</td>\n",
       "      <td>Shooter</td>\n",
       "      <td>0.22</td>\n",
       "      <td>0.24</td>\n",
       "      <td>0.00</td>\n",
       "      <td>0.04</td>\n",
       "      <td>78.0</td>\n",
       "      <td>7.80000</td>\n",
       "      <td>M</td>\n",
       "      <td>0.50</td>\n",
       "    </tr>\n",
       "    <tr>\n",
       "      <th>1812</th>\n",
       "      <td>Alien: Isolation</td>\n",
       "      <td>PS4</td>\n",
       "      <td>2014</td>\n",
       "      <td>Shooter</td>\n",
       "      <td>0.34</td>\n",
       "      <td>0.57</td>\n",
       "      <td>0.04</td>\n",
       "      <td>0.17</td>\n",
       "      <td>79.0</td>\n",
       "      <td>8.10000</td>\n",
       "      <td>M</td>\n",
       "      <td>1.12</td>\n",
       "    </tr>\n",
       "    <tr>\n",
       "      <th>7296</th>\n",
       "      <td>Angry Birds Star Wars</td>\n",
       "      <td>PS4</td>\n",
       "      <td>2013</td>\n",
       "      <td>Strategy</td>\n",
       "      <td>0.10</td>\n",
       "      <td>0.08</td>\n",
       "      <td>0.00</td>\n",
       "      <td>0.04</td>\n",
       "      <td>47.0</td>\n",
       "      <td>2.00000</td>\n",
       "      <td>E</td>\n",
       "      <td>0.22</td>\n",
       "    </tr>\n",
       "    <tr>\n",
       "      <th>8607</th>\n",
       "      <td>Angry Birds Star Wars</td>\n",
       "      <td>XOne</td>\n",
       "      <td>2013</td>\n",
       "      <td>Strategy</td>\n",
       "      <td>0.11</td>\n",
       "      <td>0.04</td>\n",
       "      <td>0.00</td>\n",
       "      <td>0.02</td>\n",
       "      <td>53.0</td>\n",
       "      <td>6.90000</td>\n",
       "      <td>E</td>\n",
       "      <td>0.17</td>\n",
       "    </tr>\n",
       "  </tbody>\n",
       "</table>\n",
       "</div>"
      ],
      "text/plain": [
       "                                             name platform  year_of_release  \\\n",
       "9197                                7 Days to Die      PS4             2016   \n",
       "12863                               7 Days to Die     XOne             2016   \n",
       "10893  Adventure Time: Finn & Jake Investigations      PS4             2015   \n",
       "12920  Adventure Time: Finn & Jake Investigations     XOne             2015   \n",
       "14940           Agatha Christie's The ABC Murders      PS4             2016   \n",
       "16322           Agatha Christie's The ABC Murders     XOne             2016   \n",
       "3909                             Alien: Isolation     XOne             2014   \n",
       "1812                             Alien: Isolation      PS4             2014   \n",
       "7296                        Angry Birds Star Wars      PS4             2013   \n",
       "8607                        Angry Birds Star Wars     XOne             2013   \n",
       "\n",
       "           genre  na_sales  eu_sales  jp_sales  other_sales  critic_score  \\\n",
       "9197      Action      0.04      0.08      0.00         0.02          45.0   \n",
       "12863     Action      0.03      0.02      0.00         0.00          35.0   \n",
       "10893     Action      0.03      0.05      0.00         0.02          68.0   \n",
       "12920     Action      0.03      0.02      0.00         0.00          68.0   \n",
       "14940  Adventure      0.01      0.01      0.00         0.00          67.0   \n",
       "16322  Adventure      0.01      0.00      0.00         0.00          66.0   \n",
       "3909     Shooter      0.22      0.24      0.00         0.04          78.0   \n",
       "1812     Shooter      0.34      0.57      0.04         0.17          79.0   \n",
       "7296    Strategy      0.10      0.08      0.00         0.04          47.0   \n",
       "8607    Strategy      0.11      0.04      0.00         0.02          53.0   \n",
       "\n",
       "       user_score rating  total_sales  \n",
       "9197      5.90000      M         0.14  \n",
       "12863     5.20000      M         0.05  \n",
       "10893     7.12633      T         0.10  \n",
       "12920     7.12633      T         0.05  \n",
       "14940     6.20000      T         0.02  \n",
       "16322     7.50000      E         0.01  \n",
       "3909      7.80000      M         0.50  \n",
       "1812      8.10000      M         1.12  \n",
       "7296      2.00000      E         0.22  \n",
       "8607      6.90000      E         0.17  "
      ]
     },
     "execution_count": 55,
     "metadata": {},
     "output_type": "execute_result"
    }
   ],
   "source": [
    "#by using this, it can be seen that most games are cross console between the PS4 and Xbox One. These two platform will be compared\n",
    "same_game.groupby('platform').count()\n",
    "\n",
    "ps4_x1 = same_game[(same_game['platform']=='PS4') | (same_game['platform']=='XOne')]\n",
    "ps4_x1.head(10)"
   ]
  },
  {
   "cell_type": "code",
   "execution_count": 56,
   "metadata": {},
   "outputs": [
    {
     "data": {
      "text/html": [
       "<div>\n",
       "<style scoped>\n",
       "    .dataframe tbody tr th:only-of-type {\n",
       "        vertical-align: middle;\n",
       "    }\n",
       "\n",
       "    .dataframe tbody tr th {\n",
       "        vertical-align: top;\n",
       "    }\n",
       "\n",
       "    .dataframe thead th {\n",
       "        text-align: right;\n",
       "    }\n",
       "</style>\n",
       "<table border=\"1\" class=\"dataframe\">\n",
       "  <thead>\n",
       "    <tr style=\"text-align: right;\">\n",
       "      <th>platform</th>\n",
       "      <th>PS4</th>\n",
       "      <th>XOne</th>\n",
       "    </tr>\n",
       "    <tr>\n",
       "      <th>name</th>\n",
       "      <th></th>\n",
       "      <th></th>\n",
       "    </tr>\n",
       "  </thead>\n",
       "  <tbody>\n",
       "    <tr>\n",
       "      <th>7 Days to Die</th>\n",
       "      <td>0.14</td>\n",
       "      <td>0.05</td>\n",
       "    </tr>\n",
       "    <tr>\n",
       "      <th>Adventure Time: Finn &amp; Jake Investigations</th>\n",
       "      <td>0.10</td>\n",
       "      <td>0.05</td>\n",
       "    </tr>\n",
       "    <tr>\n",
       "      <th>Agatha Christie's The ABC Murders</th>\n",
       "      <td>0.02</td>\n",
       "      <td>0.01</td>\n",
       "    </tr>\n",
       "    <tr>\n",
       "      <th>Alien: Isolation</th>\n",
       "      <td>1.12</td>\n",
       "      <td>0.50</td>\n",
       "    </tr>\n",
       "    <tr>\n",
       "      <th>Angry Birds Star Wars</th>\n",
       "      <td>0.22</td>\n",
       "      <td>0.17</td>\n",
       "    </tr>\n",
       "  </tbody>\n",
       "</table>\n",
       "</div>"
      ],
      "text/plain": [
       "platform                                     PS4  XOne\n",
       "name                                                  \n",
       "7 Days to Die                               0.14  0.05\n",
       "Adventure Time: Finn & Jake Investigations  0.10  0.05\n",
       "Agatha Christie's The ABC Murders           0.02  0.01\n",
       "Alien: Isolation                            1.12  0.50\n",
       "Angry Birds Star Wars                       0.22  0.17"
      ]
     },
     "execution_count": 56,
     "metadata": {},
     "output_type": "execute_result"
    }
   ],
   "source": [
    "same_game_sales = ps4_x1.pivot_table(index='name',columns='platform', values = 'total_sales')\n",
    "\n",
    "same_game_sales.head()"
   ]
  },
  {
   "cell_type": "markdown",
   "metadata": {},
   "source": [
    "- Based on pivot table, there are differences between games sale across XOne and PS4. After that, mean will be used to see if there are differences between the sales of games between the two platforms."
   ]
  },
  {
   "cell_type": "code",
   "execution_count": 57,
   "metadata": {},
   "outputs": [
    {
     "name": "stdout",
     "output_type": "stream",
     "text": [
      "The mean difference between the sales on the PS4 and the Xbox One is: 0.5852073732718894 \n",
      "The median difference between the sales on the PS4 and the Xbox is: 0.21000000000000002\n"
     ]
    }
   ],
   "source": [
    "same_game_sales['difference'] = same_game_sales['PS4'] - same_game_sales['XOne']\n",
    "# calculate difference between Xone and PS4\n",
    "\n",
    "mean = same_game_sales['difference'].mean()\n",
    "median = same_game_sales['difference'].median()\n",
    "# calculate median and mean for both platform\n",
    "\n",
    "print('The mean difference between the sales on the PS4 and the Xbox One is:', mean, \"\\nThe median difference between the sales on the PS4 and the Xbox is:\", median)"
   ]
  },
  {
   "cell_type": "markdown",
   "metadata": {},
   "source": [
    "The cross-platform games available on both the PS4 and Xbox One exhibit slight differences, with those sold on the PS4 averaging approximately $585,207 more in total sales than those on the Xbox One. This data serves to affirm our decision to select the PS4 as our preferred platform."
   ]
  },
  {
   "cell_type": "markdown",
   "metadata": {},
   "source": [
    "<a id=\"21\"></a> \n",
    "## The most profitable genres of 'Games'"
   ]
  },
  {
   "cell_type": "markdown",
   "metadata": {},
   "source": [
    "To identify profitable genre, the number of genres are identified. Then, number of sales are identified. Both of these dataset plotted based on bar graph."
   ]
  },
  {
   "cell_type": "code",
   "execution_count": 58,
   "metadata": {},
   "outputs": [
    {
     "data": {
      "text/plain": [
       "Action          766\n",
       "Role-Playing    292\n",
       "Adventure       245\n",
       "Sports          214\n",
       "Shooter         187\n",
       "Misc            155\n",
       "Racing           85\n",
       "Fighting         80\n",
       "Platform         74\n",
       "Simulation       62\n",
       "Strategy         56\n",
       "Puzzle           17\n",
       "Name: genre, dtype: int64"
      ]
     },
     "execution_count": 58,
     "metadata": {},
     "output_type": "execute_result"
    }
   ],
   "source": [
    "genre_count=relevant_data['genre'].value_counts().sort_values(ascending=False)\n",
    "#counts appearances of each unique value in the column and sorts in descending order\n",
    "\n",
    "genre_count"
   ]
  },
  {
   "cell_type": "code",
   "execution_count": 59,
   "metadata": {},
   "outputs": [
    {
     "data": {
      "image/png": "[encoded data removed]",
      "text/plain": [
       "<Figure size 1080x360 with 1 Axes>"
      ]
     },
     "metadata": {
      "needs_background": "light"
     },
     "output_type": "display_data"
    }
   ],
   "source": [
    "genre_count.plot.bar(rot=0, figsize=(15, 5))\n",
    "plt.title('Releases by genre')\n",
    "plt.xlabel('Genre')\n",
    "plt.ylabel('Releases')\n",
    "plt.show()"
   ]
  },
  {
   "cell_type": "markdown",
   "metadata": {},
   "source": [
    "Action had the highest number of releases by a significant margin, with over 700 titles, while puzzle games had the fewest, totaling less than 100. Next, it will be rank based on total sales."
   ]
  },
  {
   "cell_type": "code",
   "execution_count": 60,
   "metadata": {},
   "outputs": [
    {
     "data": {
      "text/plain": [
       "genre\n",
       "Action          321.87\n",
       "Shooter         232.98\n",
       "Sports          150.65\n",
       "Role-Playing    145.89\n",
       "Misc             62.82\n",
       "Platform         42.63\n",
       "Racing           39.89\n",
       "Fighting         35.31\n",
       "Adventure        23.64\n",
       "Simulation       21.76\n",
       "Strategy         10.08\n",
       "Puzzle            3.17\n",
       "Name: total_sales, dtype: float64"
      ]
     },
     "execution_count": 60,
     "metadata": {},
     "output_type": "execute_result"
    }
   ],
   "source": [
    "genre_profit=relevant_data.groupby('genre')['total_sales'].sum().sort_values(ascending=False)\n",
    "#groups relevant_data by genre and sums the total sales for each genre sorting the values in descending order\n",
    "\n",
    "genre_profit"
   ]
  },
  {
   "cell_type": "code",
   "execution_count": 61,
   "metadata": {},
   "outputs": [
    {
     "data": {
      "image/png": "[encoded data removed]",
      "text/plain": [
       "<Figure size 1080x360 with 1 Axes>"
      ]
     },
     "metadata": {
      "needs_background": "light"
     },
     "output_type": "display_data"
    }
   ],
   "source": [
    "genre_profit.plot.bar(rot=0, figsize=(15, 5))\n",
    "plt.title('Sales by genre')\n",
    "plt.xlabel('Genre')\n",
    "plt.ylabel('Sales')\n",
    "plt.show()"
   ]
  },
  {
   "cell_type": "markdown",
   "metadata": {},
   "source": [
    "The most profitable genres, are action which surpassing 300 million dollars, followed by shooter and sports games. Conversely, simulation, strategy, and puzzle genres yield the lowest profits. Notably, genres with the highest sales (ranging from action to role-playing) typically demand extensive graphical development, while those with lower sales (such as racing and others) often require less graphical complexity."
   ]
  },
  {
   "cell_type": "markdown",
   "metadata": {},
   "source": [
    "<a id=\"22\"></a> \n",
    "## User Profile for each region\n",
    "\n",
    "The platforms (top 5), genres (top 5), and game ratings that sell most in North America, Japanese, EU will be identify."
   ]
  },
  {
   "cell_type": "markdown",
   "metadata": {},
   "source": [
    "<a id=\"23\"></a> \n",
    "### North American User"
   ]
  },
  {
   "cell_type": "code",
   "execution_count": 68,
   "metadata": {},
   "outputs": [
    {
     "data": {
      "image/png": "[encoded data removed]",
      "text/plain": [
       "<Figure size 720x432 with 1 Axes>"
      ]
     },
     "metadata": {
      "needs_background": "light"
     },
     "output_type": "display_data"
    },
    {
     "name": "stdout",
     "output_type": "stream",
     "text": [
      "\n"
     ]
    },
    {
     "data": {
      "image/png": "[encoded data removed]",
      "text/plain": [
       "<Figure size 720x432 with 1 Axes>"
      ]
     },
     "metadata": {
      "needs_background": "light"
     },
     "output_type": "display_data"
    },
    {
     "name": "stdout",
     "output_type": "stream",
     "text": [
      "\n"
     ]
    },
    {
     "data": {
      "image/png": "[encoded data removed]",
      "text/plain": [
       "<Figure size 720x432 with 1 Axes>"
      ]
     },
     "metadata": {
      "needs_background": "light"
     },
     "output_type": "display_data"
    },
    {
     "name": "stdout",
     "output_type": "stream",
     "text": [
      "\n"
     ]
    }
   ],
   "source": [
    "cols = ['platform', 'genre', 'rating']\n",
    "\n",
    "for col in cols:\n",
    "    # Group relevant_data by the present column and obtain the sum of the North American sales for each of its values, sorting them in descending order\n",
    "    na_slice = relevant_data.groupby(col)['na_sales'].sum().sort_values(ascending=False)\n",
    "    \n",
    "    # Plotting the data using bar graphs\n",
    "    na_slice.head().plot(kind='bar', figsize=(10, 6))\n",
    "    \n",
    "    # Add title and labels\n",
    "    plt.title(f'{col} Shares in North America')\n",
    "    plt.xlabel(col)\n",
    "    plt.ylabel('North American Sales')\n",
    "    plt.xticks(rotation=0)\n",
    "    \n",
    "    # Show the plot\n",
    "    plt.show()\n",
    "    print('')"
   ]
  },
  {
   "cell_type": "markdown",
   "metadata": {},
   "source": [
    "- In the North American market, the leading platforms are PS4, XOne, X360, PS3 and 3DS with four of them being home consoles and DS being portable. \n",
    "- The top five genres are action, shooter, sports, role-playing, and miscellaneous.\n",
    "- Games rated 'M' (Mature), have the highest sales, followed by 'E' (Everyone), and then 'T' (Teen), making up the top three."
   ]
  },
  {
   "cell_type": "markdown",
   "metadata": {},
   "source": [
    "<a id=\"24\"></a> \n",
    "### Japanese User"
   ]
  },
  {
   "cell_type": "code",
   "execution_count": 70,
   "metadata": {},
   "outputs": [
    {
     "data": {
      "image/png": "[encoded data removed]",
      "text/plain": [
       "<Figure size 720x432 with 1 Axes>"
      ]
     },
     "metadata": {
      "needs_background": "light"
     },
     "output_type": "display_data"
    },
    {
     "name": "stdout",
     "output_type": "stream",
     "text": [
      "\n"
     ]
    },
    {
     "data": {
      "image/png": "[encoded data removed]",
      "text/plain": [
       "<Figure size 720x432 with 1 Axes>"
      ]
     },
     "metadata": {
      "needs_background": "light"
     },
     "output_type": "display_data"
    },
    {
     "name": "stdout",
     "output_type": "stream",
     "text": [
      "\n"
     ]
    },
    {
     "data": {
      "image/png": "[encoded data removed]",
      "text/plain": [
       "<Figure size 720x432 with 1 Axes>"
      ]
     },
     "metadata": {
      "needs_background": "light"
     },
     "output_type": "display_data"
    },
    {
     "name": "stdout",
     "output_type": "stream",
     "text": [
      "\n"
     ]
    }
   ],
   "source": [
    "import matplotlib.pyplot as plt\n",
    "\n",
    "cols = ['platform', 'genre', 'rating']\n",
    "\n",
    "for col in cols:\n",
    "    # Group relevant_data by the present column and get the sum of the JP sales for each of its values, sorting them in descending order\n",
    "    jp_slice = relevant_data.groupby(col)['jp_sales'].sum().sort_values(ascending=False)\n",
    "    \n",
    "    # Plotting the data using bar graphs\n",
    "    jp_slice.head().plot(kind='bar', figsize=(10, 6))\n",
    "    \n",
    "    # Add title and labels\n",
    "    plt.title(f'{col} Shares in Japan')\n",
    "    plt.xlabel(col)\n",
    "    plt.ylabel('Japan Sales')\n",
    "    plt.xticks(rotation=0)\n",
    "    \n",
    "    # Show the plot\n",
    "    plt.show()\n",
    "    print('')\n"
   ]
  },
  {
   "cell_type": "markdown",
   "metadata": {},
   "source": [
    "- In the Japanese market, the leading platforms are 3DS, PS3, PSV, PS4 and Wiiu, with a notable preference for handheld platforms such as 3DS, and PSV, all of which are manufactured in Japan. \n",
    "- The top genres are role-playing, followed by action, miscellaneous, fighting, and shooter. \n",
    "- The highest-selling ratings are 'T', followed by 'E', and 'M'."
   ]
  },
  {
   "cell_type": "markdown",
   "metadata": {},
   "source": [
    "<a id=\"25\"></a> \n",
    "### EU User"
   ]
  },
  {
   "cell_type": "code",
   "execution_count": 72,
   "metadata": {},
   "outputs": [
    {
     "data": {
      "image/png": "[encoded data removed]",
      "text/plain": [
       "<Figure size 720x432 with 1 Axes>"
      ]
     },
     "metadata": {
      "needs_background": "light"
     },
     "output_type": "display_data"
    },
    {
     "name": "stdout",
     "output_type": "stream",
     "text": [
      "\n"
     ]
    },
    {
     "data": {
      "image/png": "[encoded data removed]",
      "text/plain": [
       "<Figure size 720x432 with 1 Axes>"
      ]
     },
     "metadata": {
      "needs_background": "light"
     },
     "output_type": "display_data"
    },
    {
     "name": "stdout",
     "output_type": "stream",
     "text": [
      "\n"
     ]
    },
    {
     "data": {
      "image/png": "[encoded data removed]",
      "text/plain": [
       "<Figure size 720x432 with 1 Axes>"
      ]
     },
     "metadata": {
      "needs_background": "light"
     },
     "output_type": "display_data"
    },
    {
     "name": "stdout",
     "output_type": "stream",
     "text": [
      "\n"
     ]
    }
   ],
   "source": [
    "import matplotlib.pyplot as plt\n",
    "\n",
    "cols = ['platform', 'genre', 'rating']\n",
    "\n",
    "for col in cols:\n",
    "    # Group relevant_data by the present column and get the sum of the EU sales for each of its values, sorting them in descending order\n",
    "    eu_slice = relevant_data.groupby(col)['eu_sales'].sum().sort_values(ascending=False)\n",
    "    \n",
    "    # Plotting the data using bar graphs\n",
    "    eu_slice.head().plot(kind='bar', figsize=(10, 6))\n",
    "    \n",
    "    # Add title and labels\n",
    "    plt.title(f'{col} Shares in the EU')\n",
    "    plt.xlabel(col)\n",
    "    plt.ylabel('EU Sales')\n",
    "    plt.xticks(rotation=0)\n",
    "    \n",
    "    # Show the plot\n",
    "    plt.show()\n",
    "    print('')\n"
   ]
  },
  {
   "cell_type": "markdown",
   "metadata": {},
   "source": [
    "- In the EU market, the leading platforms are PS4,PS3, XOne, X360, and 3DS, with home consoles continuing to dominate. \n",
    "- The top genres are Action, Shooter, Sports, Role-playing, and Racing. \n",
    "- Games rated 'M' continue to have the highest sales, followed by 'E', and 'T'."
   ]
  },
  {
   "cell_type": "markdown",
   "metadata": {},
   "source": [
    "<a id=\"26\"></a> \n",
    "## Conclusion\n",
    "\n",
    "- Our analysis of user preferences across North America, the EU, and Japan reveals distinct trends:\n",
    "- North American and EU markets exhibit a preference for home consoles, such as X360, PS3, Wii, and PS4.\n",
    "- In contrast, the Japanese market favors handheld platforms, including 3DS, and PSV.\n",
    "- Action, Shooter, and Sports games are popular choices in North America and the EU, while the Japanese market shows a stronger inclination towards Role-playing games, with Action and Sports games also being favored.\n",
    "- Ratings preferences are consistent across regions, with North America and the EU favoring games rated 'M', followed by 'E', and 'T'. In Japan, the preference order is 'T', 'E', and then 'M'."
   ]
  },
  {
   "cell_type": "markdown",
   "metadata": {},
   "source": [
    "<a id=\"27\"></a> \n",
    "# Stage 4: Hypothesis Testing"
   ]
  },
  {
   "cell_type": "markdown",
   "metadata": {},
   "source": [
    "<a id=\"28\"></a> \n",
    "## 4.1: Hypothesis 1: 'Average user ratings of the Xbox One and PC platforms are the same'"
   ]
  },
  {
   "cell_type": "markdown",
   "metadata": {},
   "source": [
    "- Null Hypothesis: 'Average user ratings of the Xbox One and PC platforms are the same'.\n",
    "- Alternate Hypothesis: 'Average user ratings of the Xbox One and PC platforms are different'."
   ]
  },
  {
   "cell_type": "code",
   "execution_count": 73,
   "metadata": {},
   "outputs": [
    {
     "name": "stdout",
     "output_type": "stream",
     "text": [
      "<class 'pandas.core.frame.DataFrame'>\n",
      "Int64Index: 247 entries, 99 to 16672\n",
      "Data columns (total 12 columns):\n",
      " #   Column           Non-Null Count  Dtype  \n",
      "---  ------           --------------  -----  \n",
      " 0   name             247 non-null    object \n",
      " 1   platform         247 non-null    object \n",
      " 2   year_of_release  247 non-null    int64  \n",
      " 3   genre            247 non-null    object \n",
      " 4   na_sales         247 non-null    float64\n",
      " 5   eu_sales         247 non-null    float64\n",
      " 6   jp_sales         247 non-null    float64\n",
      " 7   other_sales      247 non-null    float64\n",
      " 8   critic_score     247 non-null    float64\n",
      " 9   user_score       247 non-null    float64\n",
      " 10  rating           247 non-null    object \n",
      " 11  total_sales      247 non-null    float64\n",
      "dtypes: float64(7), int64(1), object(4)\n",
      "memory usage: 25.1+ KB\n"
     ]
    }
   ],
   "source": [
    "xone_slice = relevant_data.query('platform == \"XOne\"')\n",
    "#makes a slice of rows from relevant_data where the platform is xone for xbox one\n",
    "\n",
    "xone_slice.info()"
   ]
  },
  {
   "cell_type": "code",
   "execution_count": 74,
   "metadata": {},
   "outputs": [
    {
     "name": "stdout",
     "output_type": "stream",
     "text": [
      "<class 'pandas.core.frame.DataFrame'>\n",
      "Int64Index: 189 entries, 458 to 16692\n",
      "Data columns (total 12 columns):\n",
      " #   Column           Non-Null Count  Dtype  \n",
      "---  ------           --------------  -----  \n",
      " 0   name             189 non-null    object \n",
      " 1   platform         189 non-null    object \n",
      " 2   year_of_release  189 non-null    int64  \n",
      " 3   genre            189 non-null    object \n",
      " 4   na_sales         189 non-null    float64\n",
      " 5   eu_sales         189 non-null    float64\n",
      " 6   jp_sales         189 non-null    float64\n",
      " 7   other_sales      189 non-null    float64\n",
      " 8   critic_score     189 non-null    float64\n",
      " 9   user_score       189 non-null    float64\n",
      " 10  rating           189 non-null    object \n",
      " 11  total_sales      189 non-null    float64\n",
      "dtypes: float64(7), int64(1), object(4)\n",
      "memory usage: 19.2+ KB\n"
     ]
    }
   ],
   "source": [
    "pc_slice = relevant_data.query('platform == \"PC\"')\n",
    "#makes a slice of rows from relevant_data where the platform is pc\n",
    "\n",
    "pc_slice.info()"
   ]
  },
  {
   "cell_type": "markdown",
   "metadata": {},
   "source": [
    "- Levene's test will be implemented using the method st.levene() which will take user_score columns from both slices as arguments, and also set the parameter \"center='mean'\". \n",
    "- This method returns a p-value that we will compare to a threshold called the statistical significance (commonly called alpha). \n",
    "- Alpha will be set to 5%. If the p-value returned is greater than our alpha, then the variances can be considered homogeneous. - If it is lower than our alpha, then the variances cannot be considered homogeneous"
   ]
  },
  {
   "cell_type": "code",
   "execution_count": 75,
   "metadata": {},
   "outputs": [
    {
     "name": "stdout",
     "output_type": "stream",
     "text": [
      "p-value: 9.040376173900548e-06\n",
      "The variances are too far apart to be considered homogeneous\n"
     ]
    }
   ],
   "source": [
    "alpha = 0.05 #sets our alpha to 5%\n",
    "\n",
    "result = st.levene(xone_slice['user_score'], pc_slice['user_score'], center='mean')\n",
    "#implements Levene's test on slice columns specifying that the variances were calculated from the mean\n",
    "\n",
    "print('p-value:', result.pvalue)\n",
    "\n",
    "if result.pvalue > alpha:\n",
    "    print('The variances are approximately the same')\n",
    "    \n",
    "else:\n",
    "    print('The variances are too far apart to be considered homogeneous')"
   ]
  },
  {
   "cell_type": "markdown",
   "metadata": {},
   "source": [
    "- The p-value lower than alpha, indicating variances are too far apart for the hypothesis test.\n",
    "- To assess hypothesis, st.ttest_ind() method wil be employed, which evaluates the likelihood of the means of two statistical populations (both slice columns) being equal.\n",
    "- Both slice columns are provided as arguments and set 'equal_var=False' due to unhomogeneous variances indicated by Levene's test.\n",
    "- The method returns a p-value for comparison with our alpha.\n",
    "- If the p-value exceeds alpha, it suggests the averages are likely the same, and the null hypothesis cannot be rejected.\n",
    "- Conversely, if the p-value is less than alpha, reject the null hypothesis."
   ]
  },
  {
   "cell_type": "code",
   "execution_count": 76,
   "metadata": {},
   "outputs": [
    {
     "name": "stdout",
     "output_type": "stream",
     "text": [
      "p-value: 0.06817560404247579\n",
      "Do Not Reject the null hypothesis\n"
     ]
    }
   ],
   "source": [
    "alpha = 0.05 #sets alpha to 5%\n",
    "\n",
    "result = st.ttest_ind(xone_slice['user_score'], pc_slice['user_score'], equal_var=False)\n",
    "#implements the t-test on slice columns \n",
    "\n",
    "print('p-value:', result.pvalue)\n",
    "\n",
    "if result.pvalue > alpha:\n",
    "    print('Do Not Reject the null hypothesis')\n",
    "else:\n",
    "    print('Reject the null hypothesis')"
   ]
  },
  {
   "cell_type": "markdown",
   "metadata": {},
   "source": [
    "The p-value do exceeds our alpha threshold. As a result, we do not reject our null hypothesis. Thus, 'Average user ratings of the Xbox One and PC platforms are the same'"
   ]
  },
  {
   "cell_type": "markdown",
   "metadata": {},
   "source": [
    "<a id=\"29\"></a> \n",
    "## 4.2: Hypothesis 2: 'Average user ratings for the Action and Sports genres are different.'"
   ]
  },
  {
   "cell_type": "markdown",
   "metadata": {},
   "source": [
    "- Null Hypothesis: 'Average user ratings for the Action and Sports genres are the same'\n",
    "- Alternate Hypothesis: 'Average user ratings for the Action and Sports genres are different'."
   ]
  },
  {
   "cell_type": "code",
   "execution_count": 77,
   "metadata": {},
   "outputs": [
    {
     "name": "stdout",
     "output_type": "stream",
     "text": [
      "<class 'pandas.core.frame.DataFrame'>\n",
      "Int64Index: 766 entries, 16 to 16710\n",
      "Data columns (total 12 columns):\n",
      " #   Column           Non-Null Count  Dtype  \n",
      "---  ------           --------------  -----  \n",
      " 0   name             766 non-null    object \n",
      " 1   platform         766 non-null    object \n",
      " 2   year_of_release  766 non-null    int64  \n",
      " 3   genre            766 non-null    object \n",
      " 4   na_sales         766 non-null    float64\n",
      " 5   eu_sales         766 non-null    float64\n",
      " 6   jp_sales         766 non-null    float64\n",
      " 7   other_sales      766 non-null    float64\n",
      " 8   critic_score     766 non-null    float64\n",
      " 9   user_score       766 non-null    float64\n",
      " 10  rating           766 non-null    object \n",
      " 11  total_sales      766 non-null    float64\n",
      "dtypes: float64(7), int64(1), object(4)\n",
      "memory usage: 77.8+ KB\n"
     ]
    }
   ],
   "source": [
    "action_slice = relevant_data.query('genre == \"Action\"')\n",
    "action_slice.info()"
   ]
  },
  {
   "cell_type": "code",
   "execution_count": 78,
   "metadata": {},
   "outputs": [
    {
     "name": "stdout",
     "output_type": "stream",
     "text": [
      "<class 'pandas.core.frame.DataFrame'>\n",
      "Int64Index: 214 entries, 77 to 16643\n",
      "Data columns (total 12 columns):\n",
      " #   Column           Non-Null Count  Dtype  \n",
      "---  ------           --------------  -----  \n",
      " 0   name             214 non-null    object \n",
      " 1   platform         214 non-null    object \n",
      " 2   year_of_release  214 non-null    int64  \n",
      " 3   genre            214 non-null    object \n",
      " 4   na_sales         214 non-null    float64\n",
      " 5   eu_sales         214 non-null    float64\n",
      " 6   jp_sales         214 non-null    float64\n",
      " 7   other_sales      214 non-null    float64\n",
      " 8   critic_score     214 non-null    float64\n",
      " 9   user_score       214 non-null    float64\n",
      " 10  rating           214 non-null    object \n",
      " 11  total_sales      214 non-null    float64\n",
      "dtypes: float64(7), int64(1), object(4)\n",
      "memory usage: 21.7+ KB\n"
     ]
    }
   ],
   "source": [
    "sports_slice = relevant_data.query('genre == \"Sports\"')\n",
    "sports_slice.info()"
   ]
  },
  {
   "cell_type": "code",
   "execution_count": 79,
   "metadata": {},
   "outputs": [
    {
     "name": "stdout",
     "output_type": "stream",
     "text": [
      "p-value: 1.1446195266672319e-39\n",
      "The variances are too far apart to be considered homogeneous\n"
     ]
    }
   ],
   "source": [
    "alpha = 0.05 #sets our alpha to 5%\n",
    "\n",
    "result = st.levene(action_slice['user_score'], sports_slice['user_score'], center='mean')\n",
    "#implements Levene's test on slice columns specifying that the variances were calculated from the mean\n",
    "\n",
    "print('p-value:', result.pvalue)\n",
    "\n",
    "if result.pvalue > alpha:\n",
    "    print('The variances are approximately the same')\n",
    "    \n",
    "else:\n",
    "    print('The variances are too far apart to be considered homogeneous')"
   ]
  },
  {
   "cell_type": "markdown",
   "metadata": {},
   "source": [
    "- Given that the p-value is lower than our alpha threshold, the variances cannot be considered to be homogeneous in this scenario. \n",
    "- Therefore, when utilizing the st.ttest_ind() method to examine the equality of averages, the parameter will be specified to 'equal_var=False'."
   ]
  },
  {
   "cell_type": "code",
   "execution_count": 80,
   "metadata": {},
   "outputs": [
    {
     "name": "stdout",
     "output_type": "stream",
     "text": [
      "p-value: 1.4084155169856942e-20\n",
      "Reject the null hypothesis\n"
     ]
    }
   ],
   "source": [
    "alpha = 0.05 #sets alpha to 5%\n",
    "\n",
    "result = st.ttest_ind(action_slice['user_score'], sports_slice['user_score'], equal_var=False)\n",
    "#implements the t-test on slice columns \n",
    "\n",
    "print('p-value:', result.pvalue)\n",
    "\n",
    "if result.pvalue > alpha:\n",
    "    print('Do Not Reject the null hypothesis')\n",
    "else:\n",
    "    print('Reject the null hypothesis')"
   ]
  },
  {
   "cell_type": "markdown",
   "metadata": {},
   "source": [
    "The p-value do not exceeds our alpha threshold. As a result, we reject our null hypothesis. Thus, 'Average user ratings for the Action and Sports genres are different'."
   ]
  },
  {
   "cell_type": "markdown",
   "metadata": {},
   "source": [
    "<a id=\"30\"></a> \n",
    "# Stage 5: General conclusion "
   ]
  },
  {
   "cell_type": "markdown",
   "metadata": {},
   "source": [
    "From the data we gathered and analyzed, we concluded that various factors play significant roles in determining the success of a game. The popularity of a developed game can vary greatly depending on numerous variables such as genre, console, and country of release. Surprisingly, even the ESRB rating has the potential to influence a game's popularity across different countries!\n",
    "\n",
    "- Missing values were filled in, and analyses were conducted to determine the most profitable genres, ratings, and platforms.\n",
    "- The correlation between critic and user scores with total sales was found to be minimal or non-existent.\n",
    "- User profiles were developed for the North American, EU, and Japanese markets.\n",
    "- Hypotheses were tested:\n",
    "1. The hypothesis that the average user ratings of the Xbox One and PC platforms are the same could not be rejected.\n",
    "2. The hypothesis that the average user ratings for the Action and Sports genres are different could be rejected."
   ]
  }
 ],
 "metadata": {
  "kernelspec": {
   "display_name": "Python 3 (ipykernel)",
   "language": "python",
   "name": "python3"
  },
  "language_info": {
   "codemirror_mode": {
    "name": "ipython",
    "version": 3
   },
   "file_extension": ".py",
   "mimetype": "text/x-python",
   "name": "python",
   "nbconvert_exporter": "python",
   "pygments_lexer": "ipython3",
   "version": "3.9.5"
  },
  "toc": {
   "base_numbering": 1,
   "nav_menu": {},
   "number_sections": true,
   "sideBar": true,
   "skip_h1_title": false,
   "title_cell": "Table of Contents",
   "title_sidebar": "Contents",
   "toc_cell": false,
   "toc_position": {
    "height": "calc(100% - 180px)",
    "left": "10px",
    "top": "150px",
    "width": "325px"
   },
   "toc_section_display": true,
   "toc_window_display": true
  }
 },
 "nbformat": 4,
 "nbformat_minor": 2
}
